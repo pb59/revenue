{
 "cells": [
  {
   "cell_type": "code",
   "execution_count": 1,
   "id": "54de494c-72c3-40e9-83f8-b6f4824bf5f4",
   "metadata": {},
   "outputs": [],
   "source": [
    "import pandas as pd"
   ]
  },
  {
   "cell_type": "code",
   "execution_count": 2,
   "id": "e6c2a95b-898f-4364-9f71-83e0ec9c2a8a",
   "metadata": {},
   "outputs": [],
   "source": [
    "from langchain_community.utilities import SQLDatabase"
   ]
  },
  {
   "cell_type": "code",
   "execution_count": 3,
   "id": "eedac566-3e5a-4a28-813c-2d4b2faab76f",
   "metadata": {},
   "outputs": [],
   "source": [
    "from sqlalchemy import create_engine"
   ]
  },
  {
   "cell_type": "code",
   "execution_count": 5,
   "id": "f1b09fe9-6e13-4bca-943f-2a661326f7ac",
   "metadata": {},
   "outputs": [
    {
     "name": "stderr",
     "output_type": "stream",
     "text": [
      "C:\\Users\\pbag604\\AppData\\Local\\Temp\\ipykernel_5448\\3515776582.py:3: DtypeWarning: Columns (0,2,3,5,6,7,8,9,10,11,12,15,16,19,20,21,22) have mixed types. Specify dtype option on import or set low_memory=False.\n",
      "  df = pd.read_csv(csv_file)\n"
     ]
    }
   ],
   "source": [
    "# Step 1: Load CSV into a Pandas DataFrame\n",
    "csv_file = \"rev.csv\"\n",
    "df = pd.read_csv(csv_file)"
   ]
  },
  {
   "cell_type": "code",
   "execution_count": 6,
   "id": "2b9457b9-11b0-4600-b472-30263035a541",
   "metadata": {},
   "outputs": [],
   "source": [
    "df = pd.read_csv(csv_file, low_memory=False)"
   ]
  },
  {
   "cell_type": "code",
   "execution_count": null,
   "id": "6d2b2796-837d-4b95-a16a-2942401743dc",
   "metadata": {},
   "outputs": [],
   "source": []
  },
  {
   "cell_type": "code",
   "execution_count": 17,
   "id": "93d65fe7-56dc-4701-bd15-ac3c83ed9311",
   "metadata": {},
   "outputs": [
    {
     "name": "stdout",
     "output_type": "stream",
     "text": [
      "sqlite\n",
      "['rev']\n"
     ]
    },
    {
     "data": {
      "text/plain": [
       "\"[('2021-01-01 00:00:00', 51, 324, '4999VMZR  04157', '4999V', 'MZR  ', '04157', '5131078472691', '259', 'ILEC', 'Recurring', 'CopperNonFioptics', 'Consumer', 'FN1G10', '9.99', 'CBT'), ('2021-01-01 00:00:00', 23, 286, '4999V1FB  04157', '4999V', '1FB  ', '04157', '5132210238618', '230', 'ILEC', 'Recurring', 'FiberFioptics', 'Strategic', 'FN1G10', '-1.37', 'CBT'), ('2021-01-01 00:00:00', 23, 390, 'ZZR9J1FB  04270', 'ZZR9J', '1FB  ', '04270', '5139840444273', '246', 'ILEC', 'Recurring', 'CopperNonFioptics', 'Strategic', 'FNX4  ', '-27.87', 'CBT'), ('2021-01-01 00:00:00', 51, 247, 'ZXT  1FR  00136', 'ZXT  ', '1FR  ', '00136', '5137264216269', '154', 'ILEC', 'Recurring', 'FiberFioptics', 'Consumer', '5RFH02', '0.12', 'CBT'), ('2021-01-01 00:00:00', 51, 41, '     MZR  04396', '     ', 'MZR  ', '04396', '5131177980400', '306', 'CLEC', 'Recurring', 'FiberNonFioptics', 'Consumer', 'FNMA  ', '0.92', 'CBT'), ('2021-01-01 00:00:00', 24, 78, '8954V1FR  04284', '8954V', '1FR  ', '04284', '8596430057533', '383', 'CLEC', 'Recurring', 'FiberFioptics', 'Consumer', 'FR0501', '1.16', 'CBT'), ('2021-01-01 00:00:00', 24, 157, '6434V1FB-M00441', '6434V', '1FB-M', '00441', '5135310131675', '220', 'ILEC', 'Recurring', 'CopperNonFioptics', 'Strategic', 'FN94  ', '0.36', 'CBT'), ('2021-01-01 00:00:00', 51, 396, 'C5PEX1FB  03682', 'C5PEX', '1FB  ', '03682', '8598240969159', '408', 'ILEC', 'Recurring', 'CopperNonFioptics', 'Strategic', '5RF042', '38.1', 'CBT'), ('2021-01-01 00:00:00', 203, 292, '', '', '', '', '1012032', 'CIN', 'CBTS_US', 'Recurring', '', '', '', '0.0', 'CBTS'), ('2021-01-01 00:00:00', 23, 71, '8684VMZR  04281', '8684V', 'MZR  ', '04281', '5131026874186', '230', 'ILEC', 'Recurring', 'FiberFioptics', 'Consumer', 'FQ0101', '-19.99', 'CBT')]\""
      ]
     },
     "execution_count": 17,
     "metadata": {},
     "output_type": "execute_result"
    }
   ],
   "source": [
    "from langchain.sql_database import SQLDatabase  # Adjust the import if you're using a different library\n",
    "\n",
    "# Use the absolute path to your database\n",
    "db = SQLDatabase.from_uri(f\"sqlite:///C:/Users/pbag604/Desktop/github/Rev_pan/daw.db\")\n",
    "\n",
    "# Print the dialect and usable table names\n",
    "print(db.dialect)\n",
    "print(db.get_usable_table_names())\n",
    "db.run(\"SELECT * FROM rev LIMIT 10\")\n"
   ]
  },
  {
   "cell_type": "code",
   "execution_count": 96,
   "id": "cd69f786-d41d-4725-a84d-2d2f9611bee9",
   "metadata": {},
   "outputs": [
    {
     "data": {
      "text/plain": [
       "\"[('2021-01-01 00:00:00', 51, 324, '4999VMZR  04157', '4999V', 'MZR  ', '04157', '5131078472691', '259', 'ILEC', 'Recurring', 'CopperNonFioptics', 'Consumer', 'FN1G10', '9.99', 'CBT'), ('2021-01-01 00:00:00', 23, 286, '4999V1FB  04157', '4999V', '1FB  ', '04157', '5132210238618', '230', 'ILEC', 'Recurring', 'FiberFioptics', 'Strategic', 'FN1G10', '-1.37', 'CBT'), ('2021-01-01 00:00:00', 23, 390, 'ZZR9J1FB  04270', 'ZZR9J', '1FB  ', '04270', '5139840444273', '246', 'ILEC', 'Recurring', 'CopperNonFioptics', 'Strategic', 'FNX4  ', '-27.87', 'CBT'), ('2021-01-01 00:00:00', 51, 247, 'ZXT  1FR  00136', 'ZXT  ', '1FR  ', '00136', '5137264216269', '154', 'ILEC', 'Recurring', 'FiberFioptics', 'Consumer', '5RFH02', '0.12', 'CBT'), ('2021-01-01 00:00:00', 51, 41, '     MZR  04396', '     ', 'MZR  ', '04396', '5131177980400', '306', 'CLEC', 'Recurring', 'FiberNonFioptics', 'Consumer', 'FNMA  ', '0.92', 'CBT'), ('2021-01-01 00:00:00', 24, 78, '8954V1FR  04284', '8954V', '1FR  ', '04284', '8596430057533', '383', 'CLEC', 'Recurring', 'FiberFioptics', 'Consumer', 'FR0501', '1.16', 'CBT'), ('2021-01-01 00:00:00', 24, 157, '6434V1FB-M00441', '6434V', '1FB-M', '00441', '5135310131675', '220', 'ILEC', 'Recurring', 'CopperNonFioptics', 'Strategic', 'FN94  ', '0.36', 'CBT'), ('2021-01-01 00:00:00', 51, 396, 'C5PEX1FB  03682', 'C5PEX', '1FB  ', '03682', '8598240969159', '408', 'ILEC', 'Recurring', 'CopperNonFioptics', 'Strategic', '5RF042', '38.1', 'CBT'), ('2021-01-01 00:00:00', 203, 292, '', '', '', '', '1012032', 'CIN', 'CBTS_US', 'Recurring', '', '', '', '0.0', 'CBTS'), ('2021-01-01 00:00:00', 23, 71, '8684VMZR  04281', '8684V', 'MZR  ', '04281', '5131026874186', '230', 'ILEC', 'Recurring', 'FiberFioptics', 'Consumer', 'FQ0101', '-19.99', 'CBT')]\""
      ]
     },
     "execution_count": 96,
     "metadata": {},
     "output_type": "execute_result"
    }
   ],
   "source": [
    "db.run(\"SELECT * FROM rev LIMIT 10\")"
   ]
  },
  {
   "cell_type": "code",
   "execution_count": null,
   "id": "f71af390-3218-4437-9605-305221daea42",
   "metadata": {},
   "outputs": [],
   "source": []
  },
  {
   "cell_type": "markdown",
   "id": "615881e8-f462-48d9-8a13-c48db8254b65",
   "metadata": {},
   "source": [
    "engine = create_engine(\"sqlite:///rev_mnth.db\")\n",
    "print(db.dialect)\n",
    "print(db.get_usable_table_names())"
   ]
  },
  {
   "cell_type": "code",
   "execution_count": 13,
   "id": "5b1e9b70-7d35-4d8c-a29f-8c4aec3c5e87",
   "metadata": {},
   "outputs": [
    {
     "name": "stdout",
     "output_type": "stream",
     "text": [
      "sqlite\n",
      "['rev']\n"
     ]
    }
   ],
   "source": [
    "engine = create_engine(\"sqlite:///rev_mnth.db\")\n",
    "print(db.dialect)\n",
    "print(db.get_usable_table_names())"
   ]
  },
  {
   "cell_type": "code",
   "execution_count": 1,
   "id": "cfc65d62-b9bf-4792-a968-0bad45569bfc",
   "metadata": {},
   "outputs": [
    {
     "ename": "NameError",
     "evalue": "name 'df' is not defined",
     "output_type": "error",
     "traceback": [
      "\u001b[1;31m---------------------------------------------------------------------------\u001b[0m",
      "\u001b[1;31mNameError\u001b[0m                                 Traceback (most recent call last)",
      "Cell \u001b[1;32mIn[1], line 2\u001b[0m\n\u001b[0;32m      1\u001b[0m table_name \u001b[38;5;241m=\u001b[39m \u001b[38;5;124m\"\u001b[39m\u001b[38;5;124mrev\u001b[39m\u001b[38;5;124m\"\u001b[39m\n\u001b[1;32m----> 2\u001b[0m \u001b[43mdf\u001b[49m\u001b[38;5;241m.\u001b[39mto_sql(table_name, con\u001b[38;5;241m=\u001b[39mengine, if_exists\u001b[38;5;241m=\u001b[39m\u001b[38;5;124m\"\u001b[39m\u001b[38;5;124mreplace\u001b[39m\u001b[38;5;124m\"\u001b[39m, index\u001b[38;5;241m=\u001b[39m\u001b[38;5;28;01mFalse\u001b[39;00m)\n\u001b[0;32m      4\u001b[0m \u001b[38;5;28mprint\u001b[39m(\u001b[38;5;124mf\u001b[39m\u001b[38;5;124m\"\u001b[39m\u001b[38;5;124mData from \u001b[39m\u001b[38;5;132;01m{\u001b[39;00mcsv_file\u001b[38;5;132;01m}\u001b[39;00m\u001b[38;5;124m has been loaded into the \u001b[39m\u001b[38;5;132;01m{\u001b[39;00mtable_name\u001b[38;5;132;01m}\u001b[39;00m\u001b[38;5;124m table.\u001b[39m\u001b[38;5;124m\"\u001b[39m)\n",
      "\u001b[1;31mNameError\u001b[0m: name 'df' is not defined"
     ]
    }
   ],
   "source": [
    "table_name = \"rev\"\n",
    "df.to_sql(table_name, con=engine, if_exists=\"replace\", index=False)\n",
    " \n",
    "print(f\"Data from {csv_file} has been loaded into the {table_name} table.\")"
   ]
  },
  {
   "cell_type": "code",
   "execution_count": 132,
   "id": "1ddba0d2-5308-4040-92e9-190aff270fff",
   "metadata": {},
   "outputs": [
    {
     "name": "stdout",
     "output_type": "stream",
     "text": [
      "        Revenue\n",
      "0          None\n",
      "1          None\n",
      "2          None\n",
      "3          None\n",
      "4          None\n",
      "...         ...\n",
      "1643706    None\n",
      "1643707    None\n",
      "1643708    None\n",
      "1643709    None\n",
      "1643710    None\n",
      "\n",
      "[1643711 rows x 1 columns]\n"
     ]
    }
   ],
   "source": [
    "from sqlalchemy import create_engine\n",
    "import pandas as pd\n",
    "\n",
    "# Query the table and load the result into a pandas DataFrame\n",
    "query = f\"SELECT revenue FROM {table_name}\"\n",
    "df_query_result1 = pd.read_sql(query, con=engine)\n",
    "\n",
    "# Display the queried data\n",
    "print(df_query_result1)\n"
   ]
  },
  {
   "cell_type": "code",
   "execution_count": 131,
   "id": "ba017dbe-68a9-431e-84b2-77c95745ab58",
   "metadata": {},
   "outputs": [
    {
     "name": "stdout",
     "output_type": "stream",
     "text": [
      "        Revenue\n",
      "0          None\n",
      "1          None\n",
      "2          None\n",
      "3          None\n",
      "4          None\n",
      "...         ...\n",
      "1643706    None\n",
      "1643707    None\n",
      "1643708    None\n",
      "1643709    None\n",
      "1643710    None\n",
      "\n",
      "[1643711 rows x 1 columns]\n"
     ]
    }
   ],
   "source": [
    "from sqlalchemy import create_engine\n",
    "import pandas as pd\n",
    "\n",
    "# Query the table and load the result into a pandas DataFrame\n",
    "query = f\"SELECT revenue FROM {table_name}\"\n",
    "df_query_result = pd.read_sql(query, con=engine)\n",
    "\n",
    "# Display the queried data\n",
    "print(df_query_result)\n"
   ]
  },
  {
   "cell_type": "code",
   "execution_count": 106,
   "id": "252a388c-e647-4472-86a9-c1262b797389",
   "metadata": {},
   "outputs": [
    {
     "ename": "AttributeError",
     "evalue": "'Engine' object has no attribute 'table_names'",
     "output_type": "error",
     "traceback": [
      "\u001b[1;31m---------------------------------------------------------------------------\u001b[0m",
      "\u001b[1;31mAttributeError\u001b[0m                            Traceback (most recent call last)",
      "Cell \u001b[1;32mIn[106], line 1\u001b[0m\n\u001b[1;32m----> 1\u001b[0m \u001b[38;5;28mprint\u001b[39m(\u001b[43mengine\u001b[49m\u001b[38;5;241;43m.\u001b[39;49m\u001b[43mtable_names\u001b[49m())  \u001b[38;5;66;03m# Deprecated in newer SQLAlchemy versions.\u001b[39;00m\n\u001b[0;32m      2\u001b[0m \u001b[38;5;28mprint\u001b[39m(engine\u001b[38;5;241m.\u001b[39minspect()\u001b[38;5;241m.\u001b[39mget_table_names()) \n",
      "\u001b[1;31mAttributeError\u001b[0m: 'Engine' object has no attribute 'table_names'"
     ]
    }
   ],
   "source": [
    "print(table_names())  # Deprecated in newer SQLAlchemy versions.\n",
    "print(get_table_names()) \n"
   ]
  },
  {
   "cell_type": "code",
   "execution_count": 108,
   "id": "204cca8a-98de-4cf8-b0c4-ada090de2cb9",
   "metadata": {},
   "outputs": [
    {
     "name": "stdout",
     "output_type": "stream",
     "text": [
      "<sqlalchemy.dialects.sqlite.pysqlite.SQLiteDialect_pysqlite object at 0x00000293926A56D0>\n"
     ]
    }
   ],
   "source": [
    "print(engine.dialect)"
   ]
  },
  {
   "cell_type": "code",
   "execution_count": 103,
   "id": "39c4a09b-f899-453e-960d-39bb251a2034",
   "metadata": {},
   "outputs": [
    {
     "name": "stdout",
     "output_type": "stream",
     "text": [
      "  CBTRevenueId                 Date DataSourceId ProductId       ProductKey  \\\n",
      "0      5263388  2024-08-01 00:00:00           24       247  ZXT  1FB-M00139   \n",
      "\n",
      "    USOC ClassOfService    RAC  AccountNumber WorkingTelephoneNumber  \\\n",
      "0  ZXT            1FB-M  00139  5139369200681             5139369200   \n",
      "\n",
      "  RegionCode CompanyCode RevenueType              Brand     Market  \\\n",
      "0        278        ILEC   Recurring  CopperNonFioptics  Strategic   \n",
      "\n",
      "  FunctionCode  Revenue          DAWLoadDate vchCircuitId vchCircuitLocation  \\\n",
      "0       5RFH05      NaN  2024-09-10 00:00:00          NaN                NaN   \n",
      "\n",
      "  Division SubDivision JournalCode  \n",
      "0      NaN         NaN         NaN  \n"
     ]
    }
   ],
   "source": [
    "print(df.head(1))"
   ]
  },
  {
   "cell_type": "code",
   "execution_count": 113,
   "id": "3d220fce-349e-4fb0-a34c-bc2a4160f46c",
   "metadata": {},
   "outputs": [
    {
     "name": "stdout",
     "output_type": "stream",
     "text": [
      "  CBTRevenueId                 Date DataSourceId ProductId       ProductKey  \\\n",
      "0      5263388  2024-08-01 00:00:00           24       247  ZXT  1FB-M00139   \n",
      "1      5263389  2024-08-01 00:00:00           24       482  AHL  1FB-M04298   \n",
      "2      5263390  2024-08-01 00:00:00           24       202  9ZR  1FB-M00309   \n",
      "3      5263391  2024-08-01 00:00:00           24       200  ARREG1FB-M04372   \n",
      "4      5263392  2024-08-01 00:00:00           24       396  C5PEX1FB-M03682   \n",
      "5      5263393  2024-08-01 00:00:00           24       202  9ZR  1FB-M00309   \n",
      "6      5263394  2024-08-01 00:00:00           24       200  ARREG1FB-M04372   \n",
      "7      5263395  2024-08-01 00:00:00           24       158  8409V1FB-M04375   \n",
      "8      5263396  2024-08-01 00:00:00           24       195  8254V1FB-M04377   \n",
      "9      5263397  2024-08-01 00:00:00           24       324  4999V1FB-M04157   \n",
      "\n",
      "    USOC ClassOfService    RAC  AccountNumber WorkingTelephoneNumber  \\\n",
      "0  ZXT            1FB-M  00139  5139369200681             5139369200   \n",
      "1  AHL            1FB-M  04298  5139369200681             5139369200   \n",
      "2  9ZR            1FB-M  00309  5139369200681             5139369200   \n",
      "3  ARREG          1FB-M  04372  5139369200681             5139369200   \n",
      "4  C5PEX          1FB-M  03682  5139369200681             5139369200   \n",
      "5  9ZR            1FB-M  00309  5139369200681             5139369290   \n",
      "6  ARREG          1FB-M  04372  5139369200681             5139369290   \n",
      "7  8409V          1FB-M  04375  5139369200681             5139369290   \n",
      "8  8254V          1FB-M  04377  5139369200681             5139369290   \n",
      "9  4999V          1FB-M  04157  5139369200681             5139369290   \n",
      "\n",
      "  RegionCode CompanyCode RevenueType              Brand     Market  \\\n",
      "0        278        ILEC   Recurring  CopperNonFioptics  Strategic   \n",
      "1        278        ILEC   Recurring  CopperNonFioptics  Strategic   \n",
      "2        278        ILEC   Recurring  CopperNonFioptics  Strategic   \n",
      "3        278        ILEC   Recurring  CopperNonFioptics  Strategic   \n",
      "4        278        ILEC   Recurring  CopperNonFioptics  Strategic   \n",
      "5        278        ILEC   Recurring  CopperNonFioptics  Strategic   \n",
      "6        278        ILEC   Recurring  CopperNonFioptics  Strategic   \n",
      "7        278        ILEC   Recurring  CopperNonFioptics  Strategic   \n",
      "8        278        ILEC   Recurring  CopperNonFioptics  Strategic   \n",
      "9        278        ILEC   Recurring  CopperNonFioptics  Strategic   \n",
      "\n",
      "  FunctionCode Revenue          DAWLoadDate vchCircuitId vchCircuitLocation  \\\n",
      "0       5RFH05    None  2024-09-10 00:00:00         None               None   \n",
      "1       5WAB      None  2024-09-10 00:00:00         None               None   \n",
      "2       5WA0      None  2024-09-10 00:00:00         None               None   \n",
      "3       5WAE      None  2024-09-10 00:00:00         None               None   \n",
      "4       5RF042    None  2024-09-10 00:00:00         None               None   \n",
      "5       5WA0      None  2024-09-10 00:00:00         None               None   \n",
      "6       5WAE      None  2024-09-10 00:00:00         None               None   \n",
      "7       FNX6      None  2024-09-10 00:00:00         None               None   \n",
      "8       FNX6      None  2024-09-10 00:00:00         None               None   \n",
      "9       FN1G10    None  2024-09-10 00:00:00         None               None   \n",
      "\n",
      "  Division SubDivision JournalCode  \n",
      "0     None        None        None  \n",
      "1     None        None        None  \n",
      "2     None        None        None  \n",
      "3     None        None        None  \n",
      "4     None        None        None  \n",
      "5     None        None        None  \n",
      "6     None        None        None  \n",
      "7     None        None        None  \n",
      "8     None        None        None  \n",
      "9     None        None        None  \n"
     ]
    }
   ],
   "source": [
    "print(df_query_result.head(10))"
   ]
  },
  {
   "cell_type": "markdown",
   "id": "5a5d1853-ed65-4a40-bb91-09392a164470",
   "metadata": {},
   "source": [
    "print(df.info)"
   ]
  },
  {
   "cell_type": "code",
   "execution_count": 10,
   "id": "d5c308d4-132f-42a6-a39f-e4057e39e9d0",
   "metadata": {},
   "outputs": [
    {
     "name": "stdout",
     "output_type": "stream",
     "text": [
      "<bound method NDFrame.head of         CBTRevenueId                 Date DataSourceId ProductId  \\\n",
      "0            5263388  2024-08-01 00:00:00           24       247   \n",
      "1            5263389  2024-08-01 00:00:00           24       482   \n",
      "2            5263390  2024-08-01 00:00:00           24       202   \n",
      "3            5263391  2024-08-01 00:00:00           24       200   \n",
      "4            5263392  2024-08-01 00:00:00           24       396   \n",
      "...              ...                  ...          ...       ...   \n",
      "1643706    416606642  2024-10-01 00:00:00           24       247   \n",
      "1643707    416606643  2024-10-01 00:00:00           23       168   \n",
      "1643708    416606644  2024-10-01 00:00:00           24        18   \n",
      "1643709    416606645  2024-10-01 00:00:00           51        43   \n",
      "1643710    416606646  2024-10-01 00:00:00           23       202   \n",
      "\n",
      "              ProductKey   USOC ClassOfService    RAC  AccountNumber  \\\n",
      "0        ZXT  1FB-M00139  ZXT            1FB-M  00139  5139369200681   \n",
      "1        AHL  1FB-M04298  AHL            1FB-M  04298  5139369200681   \n",
      "2        9ZR  1FB-M00309  9ZR            1FB-M  00309  5139369200681   \n",
      "3        ARREG1FB-M04372  ARREG          1FB-M  04372  5139369200681   \n",
      "4        C5PEX1FB-M03682  C5PEX          1FB-M  03682  5139369200681   \n",
      "...                  ...    ...            ...    ...            ...   \n",
      "1643706  ZXT  LMB  00136    NaN            NaN    NaN          ZXT     \n",
      "1643707  6548VMZR  04281    NaN            NaN    NaN          6548V   \n",
      "1643708  6203VMZR  04281    NaN            NaN    NaN          6203V   \n",
      "1643709  6604VMZR  04281    NaN            NaN    NaN          6604V   \n",
      "1643710       1FR  00309    NaN            NaN    NaN                  \n",
      "\n",
      "        WorkingTelephoneNumber  ...              Brand      Market  \\\n",
      "0                   5139369200  ...  CopperNonFioptics   Strategic   \n",
      "1                   5139369200  ...  CopperNonFioptics   Strategic   \n",
      "2                   5139369200  ...  CopperNonFioptics   Strategic   \n",
      "3                   5139369200  ...  CopperNonFioptics   Strategic   \n",
      "4                   5139369200  ...  CopperNonFioptics   Strategic   \n",
      "...                        ...  ...                ...         ...   \n",
      "1643706                  LMB    ...      5138940169235  5138940169   \n",
      "1643707                  MZR    ...      8591168361340  8591168361   \n",
      "1643708                  MZR    ...      5131289476768  5131289476   \n",
      "1643709                  MZR    ...      8591185957821  8591185957   \n",
      "1643710                  1FR    ...      8593448144725  8593448144   \n",
      "\n",
      "        FunctionCode Revenue          DAWLoadDate       vchCircuitId  \\\n",
      "0             5RFH05     .09  2024-09-10 00:00:00                NaN   \n",
      "1             5WAB       .01  2024-09-10 00:00:00                NaN   \n",
      "2             5WA0      1.17  2024-09-10 00:00:00                NaN   \n",
      "3             5WAE       .44  2024-09-10 00:00:00                NaN   \n",
      "4             5RF042    6.00  2024-09-10 00:00:00                NaN   \n",
      "...              ...     ...                  ...                ...   \n",
      "1643706          135    ILEC            Recurring  CopperNonFioptics   \n",
      "1643707          460    ILEC            Recurring      FiberFioptics   \n",
      "1643708          234    ILEC            Recurring      FiberFioptics   \n",
      "1643709          426    ILEC            Recurring      FiberFioptics   \n",
      "1643710          424    ILEC            Recurring      FiberFioptics   \n",
      "\n",
      "        vchCircuitLocation Division SubDivision JournalCode  \n",
      "0                      NaN      NaN         NaN         NaN  \n",
      "1                      NaN      NaN         NaN         NaN  \n",
      "2                      NaN      NaN         NaN         NaN  \n",
      "3                      NaN      NaN         NaN         NaN  \n",
      "4                      NaN      NaN         NaN         NaN  \n",
      "...                    ...      ...         ...         ...  \n",
      "1643706          Strategic   5RFH02         NaN         .07  \n",
      "1643707           Consumer   FQ0101         NaN      -59.99  \n",
      "1643708           Consumer   FQ0101         NaN       12.64  \n",
      "1643709           Consumer   FQ0101         NaN       59.99  \n",
      "1643710           Consumer   5WA1           NaN         .12  \n",
      "\n",
      "[1643711 rows x 23 columns]>\n"
     ]
    }
   ],
   "source": [
    "print(df.head)"
   ]
  },
  {
   "cell_type": "code",
   "execution_count": 11,
   "id": "02412051-6a6e-44de-a26e-b2c7fd416dfb",
   "metadata": {},
   "outputs": [
    {
     "name": "stdout",
     "output_type": "stream",
     "text": [
      "  CBTRevenueId                 Date DataSourceId ProductId       ProductKey  \\\n",
      "0      5263388  2024-08-01 00:00:00           24       247  ZXT  1FB-M00139   \n",
      "\n",
      "    USOC ClassOfService    RAC  AccountNumber WorkingTelephoneNumber  ...  \\\n",
      "0  ZXT            1FB-M  00139  5139369200681             5139369200  ...   \n",
      "\n",
      "               Brand     Market FunctionCode Revenue          DAWLoadDate  \\\n",
      "0  CopperNonFioptics  Strategic       5RFH05     .09  2024-09-10 00:00:00   \n",
      "\n",
      "  vchCircuitId vchCircuitLocation Division SubDivision JournalCode  \n",
      "0          NaN                NaN      NaN         NaN         NaN  \n",
      "\n",
      "[1 rows x 23 columns]\n"
     ]
    }
   ],
   "source": [
    "print(df.head(1))"
   ]
  },
  {
   "cell_type": "code",
   "execution_count": 13,
   "id": "040876c8-b66e-4b34-9890-82c85846220a",
   "metadata": {},
   "outputs": [
    {
     "name": "stdout",
     "output_type": "stream",
     "text": [
      "<bound method NDFrame.describe of         CBTRevenueId                 Date DataSourceId ProductId  \\\n",
      "0            5263388  2024-08-01 00:00:00           24       247   \n",
      "1            5263389  2024-08-01 00:00:00           24       482   \n",
      "2            5263390  2024-08-01 00:00:00           24       202   \n",
      "3            5263391  2024-08-01 00:00:00           24       200   \n",
      "4            5263392  2024-08-01 00:00:00           24       396   \n",
      "...              ...                  ...          ...       ...   \n",
      "1643706    416606642  2024-10-01 00:00:00           24       247   \n",
      "1643707    416606643  2024-10-01 00:00:00           23       168   \n",
      "1643708    416606644  2024-10-01 00:00:00           24        18   \n",
      "1643709    416606645  2024-10-01 00:00:00           51        43   \n",
      "1643710    416606646  2024-10-01 00:00:00           23       202   \n",
      "\n",
      "              ProductKey   USOC ClassOfService    RAC  AccountNumber  \\\n",
      "0        ZXT  1FB-M00139  ZXT            1FB-M  00139  5139369200681   \n",
      "1        AHL  1FB-M04298  AHL            1FB-M  04298  5139369200681   \n",
      "2        9ZR  1FB-M00309  9ZR            1FB-M  00309  5139369200681   \n",
      "3        ARREG1FB-M04372  ARREG          1FB-M  04372  5139369200681   \n",
      "4        C5PEX1FB-M03682  C5PEX          1FB-M  03682  5139369200681   \n",
      "...                  ...    ...            ...    ...            ...   \n",
      "1643706  ZXT  LMB  00136    NaN            NaN    NaN          ZXT     \n",
      "1643707  6548VMZR  04281    NaN            NaN    NaN          6548V   \n",
      "1643708  6203VMZR  04281    NaN            NaN    NaN          6203V   \n",
      "1643709  6604VMZR  04281    NaN            NaN    NaN          6604V   \n",
      "1643710       1FR  00309    NaN            NaN    NaN                  \n",
      "\n",
      "        WorkingTelephoneNumber  ...              Brand      Market  \\\n",
      "0                   5139369200  ...  CopperNonFioptics   Strategic   \n",
      "1                   5139369200  ...  CopperNonFioptics   Strategic   \n",
      "2                   5139369200  ...  CopperNonFioptics   Strategic   \n",
      "3                   5139369200  ...  CopperNonFioptics   Strategic   \n",
      "4                   5139369200  ...  CopperNonFioptics   Strategic   \n",
      "...                        ...  ...                ...         ...   \n",
      "1643706                  LMB    ...      5138940169235  5138940169   \n",
      "1643707                  MZR    ...      8591168361340  8591168361   \n",
      "1643708                  MZR    ...      5131289476768  5131289476   \n",
      "1643709                  MZR    ...      8591185957821  8591185957   \n",
      "1643710                  1FR    ...      8593448144725  8593448144   \n",
      "\n",
      "        FunctionCode Revenue          DAWLoadDate       vchCircuitId  \\\n",
      "0             5RFH05     .09  2024-09-10 00:00:00                NaN   \n",
      "1             5WAB       .01  2024-09-10 00:00:00                NaN   \n",
      "2             5WA0      1.17  2024-09-10 00:00:00                NaN   \n",
      "3             5WAE       .44  2024-09-10 00:00:00                NaN   \n",
      "4             5RF042    6.00  2024-09-10 00:00:00                NaN   \n",
      "...              ...     ...                  ...                ...   \n",
      "1643706          135    ILEC            Recurring  CopperNonFioptics   \n",
      "1643707          460    ILEC            Recurring      FiberFioptics   \n",
      "1643708          234    ILEC            Recurring      FiberFioptics   \n",
      "1643709          426    ILEC            Recurring      FiberFioptics   \n",
      "1643710          424    ILEC            Recurring      FiberFioptics   \n",
      "\n",
      "        vchCircuitLocation Division SubDivision JournalCode  \n",
      "0                      NaN      NaN         NaN         NaN  \n",
      "1                      NaN      NaN         NaN         NaN  \n",
      "2                      NaN      NaN         NaN         NaN  \n",
      "3                      NaN      NaN         NaN         NaN  \n",
      "4                      NaN      NaN         NaN         NaN  \n",
      "...                    ...      ...         ...         ...  \n",
      "1643706          Strategic   5RFH02         NaN         .07  \n",
      "1643707           Consumer   FQ0101         NaN      -59.99  \n",
      "1643708           Consumer   FQ0101         NaN       12.64  \n",
      "1643709           Consumer   FQ0101         NaN       59.99  \n",
      "1643710           Consumer   5WA1           NaN         .12  \n",
      "\n",
      "[1643711 rows x 23 columns]>\n"
     ]
    }
   ],
   "source": [
    "print(df.describe)"
   ]
  },
  {
   "cell_type": "code",
   "execution_count": 45,
   "id": "393d127e-ce2a-4e07-95e6-afb749fad88b",
   "metadata": {},
   "outputs": [
    {
     "name": "stdout",
     "output_type": "stream",
     "text": [
      "RangeIndex(start=0, stop=1643711, step=1)\n"
     ]
    }
   ],
   "source": [
    "print(df.index)\n"
   ]
  },
  {
   "cell_type": "code",
   "execution_count": 18,
   "id": "7268a161-40dd-4a74-b38f-178eb7fd9bc5",
   "metadata": {},
   "outputs": [],
   "source": [
    "import getpass\n",
    "import os\n",
    "\n",
    "#if \"GROQ_API_KEY\" not in os.environ:\n",
    "os.environ[\"GROQ_API_KEY\"] = \"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\"\n",
    "  "
   ]
  },
  {
   "cell_type": "code",
   "execution_count": 19,
   "id": "7f91bada-122e-4aa3-9b06-e009d8cbbd10",
   "metadata": {},
   "outputs": [
    {
     "name": "stdout",
     "output_type": "stream",
     "text": [
      "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\n"
     ]
    }
   ],
   "source": [
    "import os\n",
    "print(os.environ.get(\"GROQ_API_KEY\")) "
   ]
  },
  {
   "cell_type": "code",
   "execution_count": 20,
   "id": "3e977990-1b2f-429e-9127-de2c60678dae",
   "metadata": {
    "scrolled": true
   },
   "outputs": [
    {
     "name": "stdout",
     "output_type": "stream",
     "text": [
      "Note: you may need to restart the kernel to use updated packages.\n"
     ]
    },
    {
     "name": "stderr",
     "output_type": "stream",
     "text": [
      "WARNING: Package(s) not found: langchain_experiment\n"
     ]
    }
   ],
   "source": [
    "pip show langchain_experiment"
   ]
  },
  {
   "cell_type": "code",
   "execution_count": 21,
   "id": "9714f7da-a7f8-4dc0-9629-63e45efdb21e",
   "metadata": {},
   "outputs": [
    {
     "name": "stdout",
     "output_type": "stream",
     "text": [
      "Name: langchain-groq\n",
      "Version: 0.2.2\n",
      "Summary: An integration package connecting Groq and LangChain\n",
      "Home-page: https://github.com/langchain-ai/langchain\n",
      "Author: \n",
      "Author-email: \n",
      "License: MIT\n",
      "Location: C:\\Users\\pbag604\\AppData\\Local\\anaconda3\\envs\\myenv\\Lib\\site-packages\n",
      "Requires: groq, langchain-core\n",
      "Required-by: \n",
      "Note: you may need to restart the kernel to use updated packages.\n"
     ]
    }
   ],
   "source": [
    "pip show langchain_groq\n"
   ]
  },
  {
   "cell_type": "code",
   "execution_count": 22,
   "id": "b29b20b1-a63c-49c1-8d2e-f7ed359ce2f7",
   "metadata": {},
   "outputs": [
    {
     "ename": "NameError",
     "evalue": "name 'response' is not defined",
     "output_type": "error",
     "traceback": [
      "\u001b[1;31m---------------------------------------------------------------------------\u001b[0m",
      "\u001b[1;31mNameError\u001b[0m                                 Traceback (most recent call last)",
      "Cell \u001b[1;32mIn[22], line 1\u001b[0m\n\u001b[1;32m----> 1\u001b[0m \u001b[43mresponse\u001b[49m\n",
      "\u001b[1;31mNameError\u001b[0m: name 'response' is not defined"
     ]
    }
   ],
   "source": [
    "response"
   ]
  },
  {
   "cell_type": "code",
   "execution_count": 52,
   "id": "bcbed2ce-adfc-4c8b-8e2c-902cc25679ed",
   "metadata": {},
   "outputs": [],
   "source": [
    "%%capture --no-stderr\n",
    "%pip install --upgrade --quiet langchain-community langchainhub langgraph"
   ]
  },
  {
   "cell_type": "code",
   "execution_count": 72,
   "id": "b84b6dca-b7bc-4afc-a0d1-505819c95f8a",
   "metadata": {},
   "outputs": [
    {
     "name": "stdout",
     "output_type": "stream",
     "text": [
      "Requirement already satisfied: langchain_openai in c:\\users\\pbag604\\appdata\\local\\anaconda3\\envs\\myenv\\lib\\site-packages (0.2.10)Note: you may need to restart the kernel to use updated packages.\n",
      "\n",
      "Collecting langchain_openai\n",
      "  Using cached langchain_openai-0.2.14-py3-none-any.whl.metadata (2.7 kB)\n",
      "Requirement already satisfied: pip in c:\\users\\pbag604\\appdata\\local\\anaconda3\\envs\\myenv\\lib\\site-packages (24.2)\n",
      "Collecting pip\n",
      "  Using cached pip-24.3.1-py3-none-any.whl.metadata (3.7 kB)\n"
     ]
    },
    {
     "name": "stderr",
     "output_type": "stream",
     "text": [
      "ERROR: Could not find a version that satisfies the requirement install (from versions: none)\n",
      "ERROR: No matching distribution found for install\n"
     ]
    }
   ],
   "source": [
    "pip install --upgrade langchain_openai pip install --upgrade langchain"
   ]
  },
  {
   "cell_type": "code",
   "execution_count": 5,
   "id": "4835713e-c608-43eb-bf97-11b448f3a392",
   "metadata": {
    "scrolled": true
   },
   "outputs": [
    {
     "name": "stdout",
     "output_type": "stream",
     "text": [
      "Note: you may need to restart the kernel to use updated packages.Requirement already satisfied: langchain[all] in c:\\users\\pbag604\\appdata\\local\\anaconda3\\envs\\myenv\\lib\\site-packages (0.3.13)\n",
      "Requirement already satisfied: PyYAML>=5.3 in c:\\users\\pbag604\\appdata\\local\\anaconda3\\envs\\myenv\\lib\\site-packages (from langchain[all]) (6.0.2)\n",
      "Requirement already satisfied: SQLAlchemy<3,>=1.4 in c:\\users\\pbag604\\appdata\\local\\anaconda3\\envs\\myenv\\lib\\site-packages (from langchain[all]) (2.0.35)\n",
      "Requirement already satisfied: aiohttp<4.0.0,>=3.8.3 in c:\\users\\pbag604\\appdata\\local\\anaconda3\\envs\\myenv\\lib\\site-packages (from langchain[all]) (3.11.7)\n",
      "Requirement already satisfied: langchain-core<0.4.0,>=0.3.26 in c:\\users\\pbag604\\appdata\\local\\anaconda3\\envs\\myenv\\lib\\site-packages (from langchain[all]) (0.3.28)\n",
      "Requirement already satisfied: langchain-text-splitters<0.4.0,>=0.3.3 in c:\\users\\pbag604\\appdata\\local\\anaconda3\\envs\\myenv\\lib\\site-packages (from langchain[all]) (0.3.4)\n",
      "Requirement already satisfied: langsmith<0.3,>=0.1.17 in c:\\users\\pbag604\\appdata\\local\\anaconda3\\envs\\myenv\\lib\\site-packages (from langchain[all]) (0.1.146)\n",
      "Requirement already satisfied: numpy<3,>=1.26.2 in c:\\users\\pbag604\\appdata\\local\\anaconda3\\envs\\myenv\\lib\\site-packages (from langchain[all]) (1.26.4)\n",
      "Requirement already satisfied: pydantic<3.0.0,>=2.7.4 in c:\\users\\pbag604\\appdata\\local\\anaconda3\\envs\\myenv\\lib\\site-packages (from langchain[all]) (2.10.2)\n",
      "Requirement already satisfied: requests<3,>=2 in c:\\users\\pbag604\\appdata\\local\\anaconda3\\envs\\myenv\\lib\\site-packages (from langchain[all]) (2.32.3)\n",
      "Requirement already satisfied: tenacity!=8.4.0,<10,>=8.1.0 in c:\\users\\pbag604\\appdata\\local\\anaconda3\\envs\\myenv\\lib\\site-packages (from langchain[all]) (9.0.0)\n",
      "Requirement already satisfied: aiohappyeyeballs>=2.3.0 in c:\\users\\pbag604\\appdata\\local\\anaconda3\\envs\\myenv\\lib\\site-packages (from aiohttp<4.0.0,>=3.8.3->langchain[all]) (2.4.3)\n",
      "Requirement already satisfied: aiosignal>=1.1.2 in c:\\users\\pbag604\\appdata\\local\\anaconda3\\envs\\myenv\\lib\\site-packages (from aiohttp<4.0.0,>=3.8.3->langchain[all]) (1.3.1)\n",
      "Requirement already satisfied: attrs>=17.3.0 in c:\\users\\pbag604\\appdata\\local\\anaconda3\\envs\\myenv\\lib\\site-packages (from aiohttp<4.0.0,>=3.8.3->langchain[all]) (24.2.0)\n",
      "Requirement already satisfied: frozenlist>=1.1.1 in c:\\users\\pbag604\\appdata\\local\\anaconda3\\envs\\myenv\\lib\\site-packages (from aiohttp<4.0.0,>=3.8.3->langchain[all]) (1.5.0)\n",
      "Requirement already satisfied: multidict<7.0,>=4.5 in c:\\users\\pbag604\\appdata\\local\\anaconda3\\envs\\myenv\\lib\\site-packages (from aiohttp<4.0.0,>=3.8.3->langchain[all]) (6.1.0)\n",
      "Requirement already satisfied: propcache>=0.2.0 in c:\\users\\pbag604\\appdata\\local\\anaconda3\\envs\\myenv\\lib\\site-packages (from aiohttp<4.0.0,>=3.8.3->langchain[all]) (0.2.0)\n",
      "Requirement already satisfied: yarl<2.0,>=1.17.0 in c:\\users\\pbag604\\appdata\\local\\anaconda3\\envs\\myenv\\lib\\site-packages (from aiohttp<4.0.0,>=3.8.3->langchain[all]) (1.18.0)\n",
      "Requirement already satisfied: jsonpatch<2.0,>=1.33 in c:\\users\\pbag604\\appdata\\local\\anaconda3\\envs\\myenv\\lib\\site-packages (from langchain-core<0.4.0,>=0.3.26->langchain[all]) (1.33)\n",
      "Requirement already satisfied: packaging<25,>=23.2 in c:\\users\\pbag604\\appdata\\local\\anaconda3\\envs\\myenv\\lib\\site-packages (from langchain-core<0.4.0,>=0.3.26->langchain[all]) (24.2)\n",
      "Requirement already satisfied: typing-extensions>=4.7 in c:\\users\\pbag604\\appdata\\local\\anaconda3\\envs\\myenv\\lib\\site-packages (from langchain-core<0.4.0,>=0.3.26->langchain[all]) (4.12.2)\n",
      "Requirement already satisfied: httpx<1,>=0.23.0 in c:\\users\\pbag604\\appdata\\local\\anaconda3\\envs\\myenv\\lib\\site-packages (from langsmith<0.3,>=0.1.17->langchain[all]) (0.27.2)\n",
      "Requirement already satisfied: orjson<4.0.0,>=3.9.14 in c:\\users\\pbag604\\appdata\\local\\anaconda3\\envs\\myenv\\lib\\site-packages (from langsmith<0.3,>=0.1.17->langchain[all]) (3.10.12)\n",
      "Requirement already satisfied: requests-toolbelt<2.0.0,>=1.0.0 in c:\\users\\pbag604\\appdata\\local\\anaconda3\\envs\\myenv\\lib\\site-packages (from langsmith<0.3,>=0.1.17->langchain[all]) (1.0.0)\n",
      "Requirement already satisfied: annotated-types>=0.6.0 in c:\\users\\pbag604\\appdata\\local\\anaconda3\\envs\\myenv\\lib\\site-packages (from pydantic<3.0.0,>=2.7.4->langchain[all]) (0.7.0)\n",
      "Requirement already satisfied: pydantic-core==2.27.1 in c:\\users\\pbag604\\appdata\\local\\anaconda3\\envs\\myenv\\lib\\site-packages (from pydantic<3.0.0,>=2.7.4->langchain[all]) (2.27.1)\n",
      "Requirement already satisfied: charset-normalizer<4,>=2 in c:\\users\\pbag604\\appdata\\local\\anaconda3\\envs\\myenv\\lib\\site-packages (from requests<3,>=2->langchain[all]) (3.4.0)\n",
      "Requirement already satisfied: idna<4,>=2.5 in c:\\users\\pbag604\\appdata\\local\\anaconda3\\envs\\myenv\\lib\\site-packages (from requests<3,>=2->langchain[all]) (3.10)\n",
      "Requirement already satisfied: urllib3<3,>=1.21.1 in c:\\users\\pbag604\\appdata\\local\\anaconda3\\envs\\myenv\\lib\\site-packages (from requests<3,>=2->langchain[all]) (2.2.3)\n",
      "Requirement already satisfied: certifi>=2017.4.17 in c:\\users\\pbag604\\appdata\\local\\anaconda3\\envs\\myenv\\lib\\site-packages (from requests<3,>=2->langchain[all]) (2024.8.30)\n",
      "Requirement already satisfied: greenlet!=0.4.17 in c:\\users\\pbag604\\appdata\\local\\anaconda3\\envs\\myenv\\lib\\site-packages (from SQLAlchemy<3,>=1.4->langchain[all]) (3.1.1)\n",
      "Requirement already satisfied: anyio in c:\\users\\pbag604\\appdata\\local\\anaconda3\\envs\\myenv\\lib\\site-packages (from httpx<1,>=0.23.0->langsmith<0.3,>=0.1.17->langchain[all]) (4.6.2.post1)\n",
      "Requirement already satisfied: httpcore==1.* in c:\\users\\pbag604\\appdata\\local\\anaconda3\\envs\\myenv\\lib\\site-packages (from httpx<1,>=0.23.0->langsmith<0.3,>=0.1.17->langchain[all]) (1.0.7)\n",
      "Requirement already satisfied: sniffio in c:\\users\\pbag604\\appdata\\local\\anaconda3\\envs\\myenv\\lib\\site-packages (from httpx<1,>=0.23.0->langsmith<0.3,>=0.1.17->langchain[all]) (1.3.1)\n",
      "Requirement already satisfied: h11<0.15,>=0.13 in c:\\users\\pbag604\\appdata\\local\\anaconda3\\envs\\myenv\\lib\\site-packages (from httpcore==1.*->httpx<1,>=0.23.0->langsmith<0.3,>=0.1.17->langchain[all]) (0.14.0)\n",
      "Requirement already satisfied: jsonpointer>=1.9 in c:\\users\\pbag604\\appdata\\local\\anaconda3\\envs\\myenv\\lib\\site-packages (from jsonpatch<2.0,>=1.33->langchain-core<0.4.0,>=0.3.26->langchain[all]) (2.0)\n",
      "\n"
     ]
    },
    {
     "name": "stderr",
     "output_type": "stream",
     "text": [
      "WARNING: langchain 0.3.13 does not provide the extra 'all'\n"
     ]
    }
   ],
   "source": [
    "pip install langchain[all]\n"
   ]
  },
  {
   "cell_type": "code",
   "execution_count": 73,
   "id": "4c8f2483-32d5-4f54-a5e2-be22cb717198",
   "metadata": {},
   "outputs": [],
   "source": [
    "!python -c \"from langchain_experimental.agents import create_pandas_dataframe_agent\""
   ]
  },
  {
   "cell_type": "code",
   "execution_count": 23,
   "id": "a0604244-ab78-4ea6-bd26-9525329c1db3",
   "metadata": {},
   "outputs": [],
   "source": [
    "from langchain.agents.agent_types import AgentType\n",
    "from langchain_experimental.agents.agent_toolkits import create_pandas_dataframe_agent\n",
    "from langchain_openai import ChatOpenAI"
   ]
  },
  {
   "cell_type": "code",
   "execution_count": 24,
   "id": "e4469507-fd3d-4e75-b383-d1efe266da31",
   "metadata": {},
   "outputs": [
    {
     "ename": "NameError",
     "evalue": "name 'llm' is not defined",
     "output_type": "error",
     "traceback": [
      "\u001b[1;31m---------------------------------------------------------------------------\u001b[0m",
      "\u001b[1;31mNameError\u001b[0m                                 Traceback (most recent call last)",
      "Cell \u001b[1;32mIn[24], line 2\u001b[0m\n\u001b[0;32m      1\u001b[0m prompt\u001b[38;5;241m=\u001b[39m\u001b[38;5;124m\"\u001b[39m\u001b[38;5;124mhow are you\u001b[39m\u001b[38;5;124m\"\u001b[39m\n\u001b[1;32m----> 2\u001b[0m response\u001b[38;5;241m=\u001b[39m\u001b[43mllm\u001b[49m\u001b[38;5;241m.\u001b[39minvoke(prompt)\n\u001b[0;32m      3\u001b[0m \u001b[38;5;28mprint\u001b[39m(response\u001b[38;5;241m.\u001b[39mcontent)\n",
      "\u001b[1;31mNameError\u001b[0m: name 'llm' is not defined"
     ]
    }
   ],
   "source": [
    "prompt=\"how are you\"\n",
    "response=llm.invoke(prompt)\n",
    "print(response.content)"
   ]
  },
  {
   "cell_type": "code",
   "execution_count": 75,
   "id": "4f9a2299-7f7d-47d8-8101-b214f74bd495",
   "metadata": {},
   "outputs": [],
   "source": [
    "from langchain_core.prompts import ChatPromptTemplate\n",
    "from langchain_experimental.tools import PythonAstREPLTool"
   ]
  },
  {
   "cell_type": "code",
   "execution_count": 8,
   "id": "bc911e76-4790-4b5b-b8b7-bcd583147f57",
   "metadata": {},
   "outputs": [],
   "source": [
    "from langchain_groq import ChatGroq\n",
    "\n",
    "llm = ChatGroq(model=\"llama3-8b-8192\")"
   ]
  },
  {
   "cell_type": "code",
   "execution_count": 9,
   "id": "0c331135-951f-475b-99d5-bc1199757714",
   "metadata": {},
   "outputs": [
    {
     "data": {
      "text/plain": [
       "AIMessage(content='**What is Python?**\\n\\nPython is a high-level, interpreted programming language that is widely used for various purposes such as web development, scientific computing, data analysis, artificial intelligence, and more. It was created in the late 1980s by Guido van Rossum and was first released in 1991.\\n\\n**Key Features of Python:**\\n\\n1. **Easy to learn**: Python has a simple syntax and is relatively easy to learn, making it a great language for beginners.\\n2. **High-level language**: Python is a high-level language, meaning it abstracts away many low-level details, allowing programmers to focus on the logic of their code without worrying about the underlying mechanics.\\n3. **Interpreted language**: Python code is interpreted rather than compiled, which means that it can be executed immediately without the need for a separate compilation step.\\n4. **Object-oriented**: Python is an object-oriented language, which means it organizes code into objects that contain data and functions that operate on that data.\\n5. **Large standard library**: Python has a vast and comprehensive standard library that includes modules for various tasks, such as file I/O, networking, and data structures.\\n6. **Cross-platform**: Python code can run on multiple operating systems, including Windows, macOS, and Linux.\\n\\n**Common Uses of Python:**\\n\\n1. **Web development**: Python is used to build web applications and web services, such as Django and Flask.\\n2. **Data analysis and science**: Python is widely used in data analysis, machine learning, and scientific computing, thanks to libraries like NumPy, pandas, and scikit-learn.\\n3. **Automation**: Python is used to automate tasks, such as data processing, file management, and system administration.\\n4. **Artificial intelligence and machine learning**: Python is used to build AI and ML models, such as natural language processing, computer vision, and recommender systems.\\n5. **Education**: Python is often taught in introductory programming courses due to its simplicity and ease of use.\\n\\n**Why is Python popular?**\\n\\n1. **Easy to learn**: Python has a low barrier to entry, making it accessible to programmers of all skill levels.\\n2. **High-level language**: Python allows programmers to focus on the logic of their code without worrying about low-level details.\\n3. **Large community**: Python has a large and active community, which means there are many resources available for learning and troubleshooting.\\n4. **Cross-platform**: Python code can run on multiple operating systems, making it a versatile language for development.\\n\\nOverall, Python is a versatile and powerful language that is widely used in many areas of programming. Its simplicity, ease of use, and large community make it an excellent choice for beginners and experienced programmers alike.', additional_kwargs={}, response_metadata={'token_usage': {'completion_tokens': 557, 'prompt_tokens': 13, 'total_tokens': 570, 'completion_time': 0.464166667, 'prompt_time': 0.002264507, 'queue_time': 0.019472821, 'total_time': 0.466431174}, 'model_name': 'llama3-8b-8192', 'system_fingerprint': 'fp_6a6771ae9c', 'finish_reason': 'stop', 'logprobs': None}, id='run-73c3494d-1a5d-46d2-b811-c411d382cadc-0', usage_metadata={'input_tokens': 13, 'output_tokens': 557, 'total_tokens': 570})"
      ]
     },
     "execution_count": 9,
     "metadata": {},
     "output_type": "execute_result"
    }
   ],
   "source": [
    "llm.invoke(\"what is python\")"
   ]
  },
  {
   "cell_type": "code",
   "execution_count": 25,
   "id": "6ae9ffc0-5b56-4363-9069-f99e3507a3b9",
   "metadata": {},
   "outputs": [],
   "source": [
    "from langchain_groq import ChatGroq\n",
    "\n",
    "llm1 = ChatGroq(\n",
    "    model=\"llama3-8b-8192\",\n",
    "    temperature=1.0,\n",
    "    max_retries=2\n",
    "    #API_KEY='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'\n",
    "    \n",
    "    \n",
    ")\n",
    "#prompt=\"how are you\"\n"
   ]
  },
  {
   "cell_type": "code",
   "execution_count": 83,
   "id": "c65d6b5e-7487-402e-9d15-0b93b3548054",
   "metadata": {
    "scrolled": true
   },
   "outputs": [
    {
     "name": "stderr",
     "output_type": "stream",
     "text": [
      "C:\\Users\\pbag604\\AppData\\Local\\Temp\\ipykernel_5448\\266275771.py:6: LangChainDeprecationWarning: The class `OpenAI` was deprecated in LangChain 0.0.10 and will be removed in 1.0. An updated version of the class exists in the :class:`~langchain-openai package and should be used instead. To use it run `pip install -U :class:`~langchain-openai` and import as `from :class:`~langchain_openai import OpenAI``.\n",
      "  db_chain = SQLDatabaseChain.from_llm(OpenAI(), db)\n"
     ]
    },
    {
     "ename": "ValidationError",
     "evalue": "1 validation error for OpenAI\n  Value error, Did not find openai_api_key, please add an environment variable `OPENAI_API_KEY` which contains it, or pass `openai_api_key` as a named parameter. [type=value_error, input_value={'model_kwargs': {}, 'nam...ne, 'http_client': None}, input_type=dict]\n    For further information visit https://errors.pydantic.dev/2.10/v/value_error",
     "output_type": "error",
     "traceback": [
      "\u001b[1;31m---------------------------------------------------------------------------\u001b[0m",
      "\u001b[1;31mValidationError\u001b[0m                           Traceback (most recent call last)",
      "Cell \u001b[1;32mIn[83], line 6\u001b[0m\n\u001b[0;32m      4\u001b[0m \u001b[38;5;66;03m#db = SQLDatabase(SQLDatabase.from_uri(f\"sqlite:///C:/Users/pbag604/Desktop/github/Rev_pan/daw.db\"))\u001b[39;00m\n\u001b[0;32m      5\u001b[0m db \u001b[38;5;241m=\u001b[39m SQLDatabase\u001b[38;5;241m.\u001b[39mfrom_uri(\u001b[38;5;124m\"\u001b[39m\u001b[38;5;124msqlite:///C:/Users/pbag604/Desktop/github/Rev_pan/daw.db\u001b[39m\u001b[38;5;124m\"\u001b[39m)\n\u001b[1;32m----> 6\u001b[0m db_chain \u001b[38;5;241m=\u001b[39m SQLDatabaseChain\u001b[38;5;241m.\u001b[39mfrom_llm(\u001b[43mOpenAI\u001b[49m\u001b[43m(\u001b[49m\u001b[43m)\u001b[49m, db)\n",
      "File \u001b[1;32m~\\AppData\\Local\\anaconda3\\envs\\myenv\\Lib\\site-packages\\langchain_core\\_api\\deprecation.py:216\u001b[0m, in \u001b[0;36mdeprecated.<locals>.deprecate.<locals>.finalize.<locals>.warn_if_direct_instance\u001b[1;34m(self, *args, **kwargs)\u001b[0m\n\u001b[0;32m    214\u001b[0m     warned \u001b[38;5;241m=\u001b[39m \u001b[38;5;28;01mTrue\u001b[39;00m\n\u001b[0;32m    215\u001b[0m     emit_warning()\n\u001b[1;32m--> 216\u001b[0m \u001b[38;5;28;01mreturn\u001b[39;00m \u001b[43mwrapped\u001b[49m\u001b[43m(\u001b[49m\u001b[38;5;28;43mself\u001b[39;49m\u001b[43m,\u001b[49m\u001b[43m \u001b[49m\u001b[38;5;241;43m*\u001b[39;49m\u001b[43margs\u001b[49m\u001b[43m,\u001b[49m\u001b[43m \u001b[49m\u001b[38;5;241;43m*\u001b[39;49m\u001b[38;5;241;43m*\u001b[39;49m\u001b[43mkwargs\u001b[49m\u001b[43m)\u001b[49m\n",
      "File \u001b[1;32m~\\AppData\\Local\\anaconda3\\envs\\myenv\\Lib\\site-packages\\langchain_core\\load\\serializable.py:125\u001b[0m, in \u001b[0;36mSerializable.__init__\u001b[1;34m(self, *args, **kwargs)\u001b[0m\n\u001b[0;32m    123\u001b[0m \u001b[38;5;28;01mdef\u001b[39;00m \u001b[38;5;21m__init__\u001b[39m(\u001b[38;5;28mself\u001b[39m, \u001b[38;5;241m*\u001b[39margs: Any, \u001b[38;5;241m*\u001b[39m\u001b[38;5;241m*\u001b[39mkwargs: Any) \u001b[38;5;241m-\u001b[39m\u001b[38;5;241m>\u001b[39m \u001b[38;5;28;01mNone\u001b[39;00m:\n\u001b[0;32m    124\u001b[0m \u001b[38;5;250m    \u001b[39m\u001b[38;5;124;03m\"\"\"\"\"\"\u001b[39;00m\n\u001b[1;32m--> 125\u001b[0m     \u001b[38;5;28;43msuper\u001b[39;49m\u001b[43m(\u001b[49m\u001b[43m)\u001b[49m\u001b[38;5;241;43m.\u001b[39;49m\u001b[38;5;21;43m__init__\u001b[39;49m\u001b[43m(\u001b[49m\u001b[38;5;241;43m*\u001b[39;49m\u001b[43margs\u001b[49m\u001b[43m,\u001b[49m\u001b[43m \u001b[49m\u001b[38;5;241;43m*\u001b[39;49m\u001b[38;5;241;43m*\u001b[39;49m\u001b[43mkwargs\u001b[49m\u001b[43m)\u001b[49m\n",
      "File \u001b[1;32m~\\AppData\\Local\\anaconda3\\envs\\myenv\\Lib\\site-packages\\pydantic\\main.py:214\u001b[0m, in \u001b[0;36mBaseModel.__init__\u001b[1;34m(self, **data)\u001b[0m\n\u001b[0;32m    212\u001b[0m \u001b[38;5;66;03m# `__tracebackhide__` tells pytest and some other tools to omit this function from tracebacks\u001b[39;00m\n\u001b[0;32m    213\u001b[0m __tracebackhide__ \u001b[38;5;241m=\u001b[39m \u001b[38;5;28;01mTrue\u001b[39;00m\n\u001b[1;32m--> 214\u001b[0m validated_self \u001b[38;5;241m=\u001b[39m \u001b[38;5;28;43mself\u001b[39;49m\u001b[38;5;241;43m.\u001b[39;49m\u001b[43m__pydantic_validator__\u001b[49m\u001b[38;5;241;43m.\u001b[39;49m\u001b[43mvalidate_python\u001b[49m\u001b[43m(\u001b[49m\u001b[43mdata\u001b[49m\u001b[43m,\u001b[49m\u001b[43m \u001b[49m\u001b[43mself_instance\u001b[49m\u001b[38;5;241;43m=\u001b[39;49m\u001b[38;5;28;43mself\u001b[39;49m\u001b[43m)\u001b[49m\n\u001b[0;32m    215\u001b[0m \u001b[38;5;28;01mif\u001b[39;00m \u001b[38;5;28mself\u001b[39m \u001b[38;5;129;01mis\u001b[39;00m \u001b[38;5;129;01mnot\u001b[39;00m validated_self:\n\u001b[0;32m    216\u001b[0m     warnings\u001b[38;5;241m.\u001b[39mwarn(\n\u001b[0;32m    217\u001b[0m         \u001b[38;5;124m'\u001b[39m\u001b[38;5;124mA custom validator is returning a value other than `self`.\u001b[39m\u001b[38;5;130;01m\\n\u001b[39;00m\u001b[38;5;124m'\u001b[39m\n\u001b[0;32m    218\u001b[0m         \u001b[38;5;124m\"\u001b[39m\u001b[38;5;124mReturning anything other than `self` from a top level model validator isn\u001b[39m\u001b[38;5;124m'\u001b[39m\u001b[38;5;124mt supported when validating via `__init__`.\u001b[39m\u001b[38;5;130;01m\\n\u001b[39;00m\u001b[38;5;124m\"\u001b[39m\n\u001b[0;32m    219\u001b[0m         \u001b[38;5;124m'\u001b[39m\u001b[38;5;124mSee the `model_validator` docs (https://docs.pydantic.dev/latest/concepts/validators/#model-validators) for more details.\u001b[39m\u001b[38;5;124m'\u001b[39m,\n\u001b[0;32m    220\u001b[0m         stacklevel\u001b[38;5;241m=\u001b[39m\u001b[38;5;241m2\u001b[39m,\n\u001b[0;32m    221\u001b[0m     )\n",
      "\u001b[1;31mValidationError\u001b[0m: 1 validation error for OpenAI\n  Value error, Did not find openai_api_key, please add an environment variable `OPENAI_API_KEY` which contains it, or pass `openai_api_key` as a named parameter. [type=value_error, input_value={'model_kwargs': {}, 'nam...ne, 'http_client': None}, input_type=dict]\n    For further information visit https://errors.pydantic.dev/2.10/v/value_error"
     ]
    }
   ],
   "source": [
    "from langchain_experimental.sql import SQLDatabaseChain\n",
    "#from langchain_community.llms import OpenAI, SQLDatabase\n",
    "from langchain.sql_database import SQLDatabase\n",
    "#db = SQLDatabase(SQLDatabase.from_uri(f\"sqlite:///C:/Users/pbag604/Desktop/github/Rev_pan/daw.db\"))\n",
    "db = SQLDatabase.from_uri(\"sqlite:///C:/Users/pbag604/Desktop/github/Rev_pan/daw.db\")\n",
    "db_chain = SQLDatabaseChain.from_llm(OpenAI(), db)"
   ]
  },
  {
   "cell_type": "code",
   "execution_count": 80,
   "id": "907f337d-1a01-4b4a-b8db-5ebd808f078a",
   "metadata": {},
   "outputs": [],
   "source": [
    "from langchain_experimental.sql import SQLDatabaseChain\n",
    "from langchain.sql_database import SQLDatabase  # Correct import\n",
    "\n",
    "# Initialize the database connection\n",
    "db = SQLDatabase.from_uri(\"sqlite:///C:/Users/pbag604/Desktop/github/Rev_pan/daw.db\")\n"
   ]
  },
  {
   "cell_type": "code",
   "execution_count": 95,
   "id": "1dbcf333-bf4c-4ed6-822d-3f96ded00638",
   "metadata": {},
   "outputs": [
    {
     "name": "stdout",
     "output_type": "stream",
     "text": [
      "Error during execution: Missing some input keys: {'query'}\n"
     ]
    }
   ],
   "source": [
    "from langchain_groq import ChatGroq\n",
    "from langchain_experimental.sql import SQLDatabaseChain\n",
    "from langchain.prompts import PromptTemplate\n",
    "from langchain.sql_database import SQLDatabase\n",
    "from langchain.agents import create_sql_agent\n",
    "\n",
    "# Set up the Groq-based LLM\n",
    "llm1 = ChatGroq(\n",
    "    model=\"llama3-8b-8192\",\n",
    "    temperature=0.0,\n",
    "    max_retries=2\n",
    ")\n",
    "\n",
    "# Set up your database connection\n",
    "\n",
    "db = SQLDatabase.from_uri(f\"sqlite:///C:/Users/pbag604/Desktop/github/Rev_pan/daw.db\")\n",
    "\n",
    "# Custom prompt to guide SQL query generation\n",
    "prompt = PromptTemplate(\n",
    "    input_variables=[\"question\"],\n",
    "    template=(\n",
    "       # \"You are a helpful assistant. Generate a valid SQL query to answer the user's question. \"\n",
    "       # \"Only output the SQL query without any additional text. \"\n",
    "        \"The database has the following table: 'rev' with columns 'Revenue' and 'ProductId'.\\n\\n\"\n",
    "        \"Question: {question}\"\n",
    "    )\n",
    ")\n",
    "\n",
    "# Create the SQL chain\n",
    "#write_query = SQLDatabaseChain.from_llm(llm=llm1, database=db, prompt=prompt)\n",
    "write_query = SQLDatabaseChain.from_llm(llm=llm1, db=db, prompt=prompt)\n",
    "\n",
    "# Create SQL agent\n",
    "#sql_agent = create_sql_agent(llm=llm1, toolkit=db)\n",
    "\n",
    "# Ask the question\n",
    "question = \"How many product is available??\"\n",
    "\n",
    "try:\n",
    "        \n",
    "    # Explicitly pass the question as an input\n",
    "    query_result = write_query.run({\"question\": question})\n",
    "    \n",
    "    # Generate and execute the query\n",
    "    #result = write_query.run(question)\n",
    "    print(\"Query Result:\", query_result)\n",
    "except Exception as e:\n",
    "    print(\"Error during execution:\", e)\n",
    "\n"
   ]
  },
  {
   "cell_type": "code",
   "execution_count": 48,
   "id": "f75ef89d-6cae-4d4f-94f0-29f47df32b3c",
   "metadata": {},
   "outputs": [
    {
     "name": "stdout",
     "output_type": "stream",
     "text": [
      "Question: what is total count of rows\n",
      "SQLQuery: SELECT COUNT(*) FROM rev\n",
      "You are a SQLite expert. Given an input question, first create a syntactically correct SQLite query to run, then look at the results of the query and return the answer to the input question.\n",
      "Unless the user specifies in the question a specific number of examples to obtain, query for at most 5 results using the LIMIT clause as per SQLite. You can order the results to return the most informative data in the database.\n",
      "Never query for all columns from a table. You must query only the columns that are needed to answer the question. Wrap each column name in double quotes (\") to denote them as delimited identifiers.\n",
      "Pay attention to use only the column names you can see in the tables below. Be careful to not query for columns that do not exist. Also, pay attention to which column is in which table.\n",
      "Pay attention to use date('now') function to get the current date, if the question involves \"today\".\n",
      "\n",
      "Use the following format:\n",
      "\n",
      "Question: Question here\n",
      "SQLQuery: SQL Query to run\n",
      "SQLResult: Result of the SQLQuery\n",
      "Answer: Final answer here\n",
      "\n",
      "Only use the following tables:\n",
      "\u001b[33;1m\u001b[1;3m{table_info}\u001b[0m\n",
      "\n",
      "Question: \u001b[33;1m\u001b[1;3m{input}\u001b[0m\n"
     ]
    }
   ],
   "source": [
    "from langchain.chains import create_sql_query_chain\n",
    "\n",
    "\n",
    "chain = create_sql_query_chain(llm1, db)\n",
    "response =chain.invoke({\"question\" : \" what is total count fo rows\"})\n",
    "\n",
    "print(response)\n",
    "\n",
    "\n",
    "chain.get_prompts()[0].pretty_print()\n",
    "\n",
    "                "
   ]
  },
  {
   "cell_type": "code",
   "execution_count": 44,
   "id": "b60f99cb-953d-4394-ba6f-0689ecbcd0db",
   "metadata": {},
   "outputs": [
    {
     "ename": "OperationalError",
     "evalue": "(sqlite3.OperationalError) near \"Question\": syntax error\n[SQL: Question: what is total count of rows\nSQLQuery: SELECT COUNT(*) FROM rev]\n(Background on this error at: https://sqlalche.me/e/20/e3q8)",
     "output_type": "error",
     "traceback": [
      "\u001b[1;31m---------------------------------------------------------------------------\u001b[0m",
      "\u001b[1;31mOperationalError\u001b[0m                          Traceback (most recent call last)",
      "File \u001b[1;32m~\\AppData\\Local\\anaconda3\\envs\\myenv\\Lib\\site-packages\\sqlalchemy\\engine\\base.py:1967\u001b[0m, in \u001b[0;36mConnection._exec_single_context\u001b[1;34m(self, dialect, context, statement, parameters)\u001b[0m\n\u001b[0;32m   1966\u001b[0m     \u001b[38;5;28;01mif\u001b[39;00m \u001b[38;5;129;01mnot\u001b[39;00m evt_handled:\n\u001b[1;32m-> 1967\u001b[0m         \u001b[38;5;28;43mself\u001b[39;49m\u001b[38;5;241;43m.\u001b[39;49m\u001b[43mdialect\u001b[49m\u001b[38;5;241;43m.\u001b[39;49m\u001b[43mdo_execute\u001b[49m\u001b[43m(\u001b[49m\n\u001b[0;32m   1968\u001b[0m \u001b[43m            \u001b[49m\u001b[43mcursor\u001b[49m\u001b[43m,\u001b[49m\u001b[43m \u001b[49m\u001b[43mstr_statement\u001b[49m\u001b[43m,\u001b[49m\u001b[43m \u001b[49m\u001b[43meffective_parameters\u001b[49m\u001b[43m,\u001b[49m\u001b[43m \u001b[49m\u001b[43mcontext\u001b[49m\n\u001b[0;32m   1969\u001b[0m \u001b[43m        \u001b[49m\u001b[43m)\u001b[49m\n\u001b[0;32m   1971\u001b[0m \u001b[38;5;28;01mif\u001b[39;00m \u001b[38;5;28mself\u001b[39m\u001b[38;5;241m.\u001b[39m_has_events \u001b[38;5;129;01mor\u001b[39;00m \u001b[38;5;28mself\u001b[39m\u001b[38;5;241m.\u001b[39mengine\u001b[38;5;241m.\u001b[39m_has_events:\n",
      "File \u001b[1;32m~\\AppData\\Local\\anaconda3\\envs\\myenv\\Lib\\site-packages\\sqlalchemy\\engine\\default.py:941\u001b[0m, in \u001b[0;36mDefaultDialect.do_execute\u001b[1;34m(self, cursor, statement, parameters, context)\u001b[0m\n\u001b[0;32m    940\u001b[0m \u001b[38;5;28;01mdef\u001b[39;00m \u001b[38;5;21mdo_execute\u001b[39m(\u001b[38;5;28mself\u001b[39m, cursor, statement, parameters, context\u001b[38;5;241m=\u001b[39m\u001b[38;5;28;01mNone\u001b[39;00m):\n\u001b[1;32m--> 941\u001b[0m     \u001b[43mcursor\u001b[49m\u001b[38;5;241;43m.\u001b[39;49m\u001b[43mexecute\u001b[49m\u001b[43m(\u001b[49m\u001b[43mstatement\u001b[49m\u001b[43m,\u001b[49m\u001b[43m \u001b[49m\u001b[43mparameters\u001b[49m\u001b[43m)\u001b[49m\n",
      "\u001b[1;31mOperationalError\u001b[0m: near \"Question\": syntax error",
      "\nThe above exception was the direct cause of the following exception:\n",
      "\u001b[1;31mOperationalError\u001b[0m                          Traceback (most recent call last)",
      "Cell \u001b[1;32mIn[44], line 1\u001b[0m\n\u001b[1;32m----> 1\u001b[0m \u001b[43mdb\u001b[49m\u001b[38;5;241;43m.\u001b[39;49m\u001b[43mrun\u001b[49m\u001b[43m \u001b[49m\u001b[43m(\u001b[49m\u001b[43mresponse\u001b[49m\u001b[43m)\u001b[49m\n",
      "File \u001b[1;32m~\\AppData\\Local\\anaconda3\\envs\\myenv\\Lib\\site-packages\\langchain_community\\utilities\\sql_database.py:502\u001b[0m, in \u001b[0;36mSQLDatabase.run\u001b[1;34m(self, command, fetch, include_columns, parameters, execution_options)\u001b[0m\n\u001b[0;32m    488\u001b[0m \u001b[38;5;28;01mdef\u001b[39;00m \u001b[38;5;21mrun\u001b[39m(\n\u001b[0;32m    489\u001b[0m     \u001b[38;5;28mself\u001b[39m,\n\u001b[0;32m    490\u001b[0m     command: Union[\u001b[38;5;28mstr\u001b[39m, Executable],\n\u001b[1;32m   (...)\u001b[0m\n\u001b[0;32m    495\u001b[0m     execution_options: Optional[Dict[\u001b[38;5;28mstr\u001b[39m, Any]] \u001b[38;5;241m=\u001b[39m \u001b[38;5;28;01mNone\u001b[39;00m,\n\u001b[0;32m    496\u001b[0m ) \u001b[38;5;241m-\u001b[39m\u001b[38;5;241m>\u001b[39m Union[\u001b[38;5;28mstr\u001b[39m, Sequence[Dict[\u001b[38;5;28mstr\u001b[39m, Any]], Result[Any]]:\n\u001b[0;32m    497\u001b[0m \u001b[38;5;250m    \u001b[39m\u001b[38;5;124;03m\"\"\"Execute a SQL command and return a string representing the results.\u001b[39;00m\n\u001b[0;32m    498\u001b[0m \n\u001b[0;32m    499\u001b[0m \u001b[38;5;124;03m    If the statement returns rows, a string of the results is returned.\u001b[39;00m\n\u001b[0;32m    500\u001b[0m \u001b[38;5;124;03m    If the statement returns no rows, an empty string is returned.\u001b[39;00m\n\u001b[0;32m    501\u001b[0m \u001b[38;5;124;03m    \"\"\"\u001b[39;00m\n\u001b[1;32m--> 502\u001b[0m     result \u001b[38;5;241m=\u001b[39m \u001b[38;5;28;43mself\u001b[39;49m\u001b[38;5;241;43m.\u001b[39;49m\u001b[43m_execute\u001b[49m\u001b[43m(\u001b[49m\n\u001b[0;32m    503\u001b[0m \u001b[43m        \u001b[49m\u001b[43mcommand\u001b[49m\u001b[43m,\u001b[49m\u001b[43m \u001b[49m\u001b[43mfetch\u001b[49m\u001b[43m,\u001b[49m\u001b[43m \u001b[49m\u001b[43mparameters\u001b[49m\u001b[38;5;241;43m=\u001b[39;49m\u001b[43mparameters\u001b[49m\u001b[43m,\u001b[49m\u001b[43m \u001b[49m\u001b[43mexecution_options\u001b[49m\u001b[38;5;241;43m=\u001b[39;49m\u001b[43mexecution_options\u001b[49m\n\u001b[0;32m    504\u001b[0m \u001b[43m    \u001b[49m\u001b[43m)\u001b[49m\n\u001b[0;32m    506\u001b[0m     \u001b[38;5;28;01mif\u001b[39;00m fetch \u001b[38;5;241m==\u001b[39m \u001b[38;5;124m\"\u001b[39m\u001b[38;5;124mcursor\u001b[39m\u001b[38;5;124m\"\u001b[39m:\n\u001b[0;32m    507\u001b[0m         \u001b[38;5;28;01mreturn\u001b[39;00m result\n",
      "File \u001b[1;32m~\\AppData\\Local\\anaconda3\\envs\\myenv\\Lib\\site-packages\\langchain_community\\utilities\\sql_database.py:467\u001b[0m, in \u001b[0;36mSQLDatabase._execute\u001b[1;34m(self, command, fetch, parameters, execution_options)\u001b[0m\n\u001b[0;32m    465\u001b[0m \u001b[38;5;28;01melse\u001b[39;00m:\n\u001b[0;32m    466\u001b[0m     \u001b[38;5;28;01mraise\u001b[39;00m \u001b[38;5;167;01mTypeError\u001b[39;00m(\u001b[38;5;124mf\u001b[39m\u001b[38;5;124m\"\u001b[39m\u001b[38;5;124mQuery expression has unknown type: \u001b[39m\u001b[38;5;132;01m{\u001b[39;00m\u001b[38;5;28mtype\u001b[39m(command)\u001b[38;5;132;01m}\u001b[39;00m\u001b[38;5;124m\"\u001b[39m)\n\u001b[1;32m--> 467\u001b[0m cursor \u001b[38;5;241m=\u001b[39m \u001b[43mconnection\u001b[49m\u001b[38;5;241;43m.\u001b[39;49m\u001b[43mexecute\u001b[49m\u001b[43m(\u001b[49m\n\u001b[0;32m    468\u001b[0m \u001b[43m    \u001b[49m\u001b[43mcommand\u001b[49m\u001b[43m,\u001b[49m\n\u001b[0;32m    469\u001b[0m \u001b[43m    \u001b[49m\u001b[43mparameters\u001b[49m\u001b[43m,\u001b[49m\n\u001b[0;32m    470\u001b[0m \u001b[43m    \u001b[49m\u001b[43mexecution_options\u001b[49m\u001b[38;5;241;43m=\u001b[39;49m\u001b[43mexecution_options\u001b[49m\u001b[43m,\u001b[49m\n\u001b[0;32m    471\u001b[0m \u001b[43m\u001b[49m\u001b[43m)\u001b[49m\n\u001b[0;32m    473\u001b[0m \u001b[38;5;28;01mif\u001b[39;00m cursor\u001b[38;5;241m.\u001b[39mreturns_rows:\n\u001b[0;32m    474\u001b[0m     \u001b[38;5;28;01mif\u001b[39;00m fetch \u001b[38;5;241m==\u001b[39m \u001b[38;5;124m\"\u001b[39m\u001b[38;5;124mall\u001b[39m\u001b[38;5;124m\"\u001b[39m:\n",
      "File \u001b[1;32m~\\AppData\\Local\\anaconda3\\envs\\myenv\\Lib\\site-packages\\sqlalchemy\\engine\\base.py:1418\u001b[0m, in \u001b[0;36mConnection.execute\u001b[1;34m(self, statement, parameters, execution_options)\u001b[0m\n\u001b[0;32m   1416\u001b[0m     \u001b[38;5;28;01mraise\u001b[39;00m exc\u001b[38;5;241m.\u001b[39mObjectNotExecutableError(statement) \u001b[38;5;28;01mfrom\u001b[39;00m \u001b[38;5;21;01merr\u001b[39;00m\n\u001b[0;32m   1417\u001b[0m \u001b[38;5;28;01melse\u001b[39;00m:\n\u001b[1;32m-> 1418\u001b[0m     \u001b[38;5;28;01mreturn\u001b[39;00m \u001b[43mmeth\u001b[49m\u001b[43m(\u001b[49m\n\u001b[0;32m   1419\u001b[0m \u001b[43m        \u001b[49m\u001b[38;5;28;43mself\u001b[39;49m\u001b[43m,\u001b[49m\n\u001b[0;32m   1420\u001b[0m \u001b[43m        \u001b[49m\u001b[43mdistilled_parameters\u001b[49m\u001b[43m,\u001b[49m\n\u001b[0;32m   1421\u001b[0m \u001b[43m        \u001b[49m\u001b[43mexecution_options\u001b[49m\u001b[43m \u001b[49m\u001b[38;5;129;43;01mor\u001b[39;49;00m\u001b[43m \u001b[49m\u001b[43mNO_OPTIONS\u001b[49m\u001b[43m,\u001b[49m\n\u001b[0;32m   1422\u001b[0m \u001b[43m    \u001b[49m\u001b[43m)\u001b[49m\n",
      "File \u001b[1;32m~\\AppData\\Local\\anaconda3\\envs\\myenv\\Lib\\site-packages\\sqlalchemy\\sql\\elements.py:515\u001b[0m, in \u001b[0;36mClauseElement._execute_on_connection\u001b[1;34m(self, connection, distilled_params, execution_options)\u001b[0m\n\u001b[0;32m    513\u001b[0m     \u001b[38;5;28;01mif\u001b[39;00m TYPE_CHECKING:\n\u001b[0;32m    514\u001b[0m         \u001b[38;5;28;01massert\u001b[39;00m \u001b[38;5;28misinstance\u001b[39m(\u001b[38;5;28mself\u001b[39m, Executable)\n\u001b[1;32m--> 515\u001b[0m     \u001b[38;5;28;01mreturn\u001b[39;00m \u001b[43mconnection\u001b[49m\u001b[38;5;241;43m.\u001b[39;49m\u001b[43m_execute_clauseelement\u001b[49m\u001b[43m(\u001b[49m\n\u001b[0;32m    516\u001b[0m \u001b[43m        \u001b[49m\u001b[38;5;28;43mself\u001b[39;49m\u001b[43m,\u001b[49m\u001b[43m \u001b[49m\u001b[43mdistilled_params\u001b[49m\u001b[43m,\u001b[49m\u001b[43m \u001b[49m\u001b[43mexecution_options\u001b[49m\n\u001b[0;32m    517\u001b[0m \u001b[43m    \u001b[49m\u001b[43m)\u001b[49m\n\u001b[0;32m    518\u001b[0m \u001b[38;5;28;01melse\u001b[39;00m:\n\u001b[0;32m    519\u001b[0m     \u001b[38;5;28;01mraise\u001b[39;00m exc\u001b[38;5;241m.\u001b[39mObjectNotExecutableError(\u001b[38;5;28mself\u001b[39m)\n",
      "File \u001b[1;32m~\\AppData\\Local\\anaconda3\\envs\\myenv\\Lib\\site-packages\\sqlalchemy\\engine\\base.py:1640\u001b[0m, in \u001b[0;36mConnection._execute_clauseelement\u001b[1;34m(self, elem, distilled_parameters, execution_options)\u001b[0m\n\u001b[0;32m   1628\u001b[0m compiled_cache: Optional[CompiledCacheType] \u001b[38;5;241m=\u001b[39m execution_options\u001b[38;5;241m.\u001b[39mget(\n\u001b[0;32m   1629\u001b[0m     \u001b[38;5;124m\"\u001b[39m\u001b[38;5;124mcompiled_cache\u001b[39m\u001b[38;5;124m\"\u001b[39m, \u001b[38;5;28mself\u001b[39m\u001b[38;5;241m.\u001b[39mengine\u001b[38;5;241m.\u001b[39m_compiled_cache\n\u001b[0;32m   1630\u001b[0m )\n\u001b[0;32m   1632\u001b[0m compiled_sql, extracted_params, cache_hit \u001b[38;5;241m=\u001b[39m elem\u001b[38;5;241m.\u001b[39m_compile_w_cache(\n\u001b[0;32m   1633\u001b[0m     dialect\u001b[38;5;241m=\u001b[39mdialect,\n\u001b[0;32m   1634\u001b[0m     compiled_cache\u001b[38;5;241m=\u001b[39mcompiled_cache,\n\u001b[1;32m   (...)\u001b[0m\n\u001b[0;32m   1638\u001b[0m     linting\u001b[38;5;241m=\u001b[39m\u001b[38;5;28mself\u001b[39m\u001b[38;5;241m.\u001b[39mdialect\u001b[38;5;241m.\u001b[39mcompiler_linting \u001b[38;5;241m|\u001b[39m compiler\u001b[38;5;241m.\u001b[39mWARN_LINTING,\n\u001b[0;32m   1639\u001b[0m )\n\u001b[1;32m-> 1640\u001b[0m ret \u001b[38;5;241m=\u001b[39m \u001b[38;5;28;43mself\u001b[39;49m\u001b[38;5;241;43m.\u001b[39;49m\u001b[43m_execute_context\u001b[49m\u001b[43m(\u001b[49m\n\u001b[0;32m   1641\u001b[0m \u001b[43m    \u001b[49m\u001b[43mdialect\u001b[49m\u001b[43m,\u001b[49m\n\u001b[0;32m   1642\u001b[0m \u001b[43m    \u001b[49m\u001b[43mdialect\u001b[49m\u001b[38;5;241;43m.\u001b[39;49m\u001b[43mexecution_ctx_cls\u001b[49m\u001b[38;5;241;43m.\u001b[39;49m\u001b[43m_init_compiled\u001b[49m\u001b[43m,\u001b[49m\n\u001b[0;32m   1643\u001b[0m \u001b[43m    \u001b[49m\u001b[43mcompiled_sql\u001b[49m\u001b[43m,\u001b[49m\n\u001b[0;32m   1644\u001b[0m \u001b[43m    \u001b[49m\u001b[43mdistilled_parameters\u001b[49m\u001b[43m,\u001b[49m\n\u001b[0;32m   1645\u001b[0m \u001b[43m    \u001b[49m\u001b[43mexecution_options\u001b[49m\u001b[43m,\u001b[49m\n\u001b[0;32m   1646\u001b[0m \u001b[43m    \u001b[49m\u001b[43mcompiled_sql\u001b[49m\u001b[43m,\u001b[49m\n\u001b[0;32m   1647\u001b[0m \u001b[43m    \u001b[49m\u001b[43mdistilled_parameters\u001b[49m\u001b[43m,\u001b[49m\n\u001b[0;32m   1648\u001b[0m \u001b[43m    \u001b[49m\u001b[43melem\u001b[49m\u001b[43m,\u001b[49m\n\u001b[0;32m   1649\u001b[0m \u001b[43m    \u001b[49m\u001b[43mextracted_params\u001b[49m\u001b[43m,\u001b[49m\n\u001b[0;32m   1650\u001b[0m \u001b[43m    \u001b[49m\u001b[43mcache_hit\u001b[49m\u001b[38;5;241;43m=\u001b[39;49m\u001b[43mcache_hit\u001b[49m\u001b[43m,\u001b[49m\n\u001b[0;32m   1651\u001b[0m \u001b[43m\u001b[49m\u001b[43m)\u001b[49m\n\u001b[0;32m   1652\u001b[0m \u001b[38;5;28;01mif\u001b[39;00m has_events:\n\u001b[0;32m   1653\u001b[0m     \u001b[38;5;28mself\u001b[39m\u001b[38;5;241m.\u001b[39mdispatch\u001b[38;5;241m.\u001b[39mafter_execute(\n\u001b[0;32m   1654\u001b[0m         \u001b[38;5;28mself\u001b[39m,\n\u001b[0;32m   1655\u001b[0m         elem,\n\u001b[1;32m   (...)\u001b[0m\n\u001b[0;32m   1659\u001b[0m         ret,\n\u001b[0;32m   1660\u001b[0m     )\n",
      "File \u001b[1;32m~\\AppData\\Local\\anaconda3\\envs\\myenv\\Lib\\site-packages\\sqlalchemy\\engine\\base.py:1846\u001b[0m, in \u001b[0;36mConnection._execute_context\u001b[1;34m(self, dialect, constructor, statement, parameters, execution_options, *args, **kw)\u001b[0m\n\u001b[0;32m   1844\u001b[0m     \u001b[38;5;28;01mreturn\u001b[39;00m \u001b[38;5;28mself\u001b[39m\u001b[38;5;241m.\u001b[39m_exec_insertmany_context(dialect, context)\n\u001b[0;32m   1845\u001b[0m \u001b[38;5;28;01melse\u001b[39;00m:\n\u001b[1;32m-> 1846\u001b[0m     \u001b[38;5;28;01mreturn\u001b[39;00m \u001b[38;5;28;43mself\u001b[39;49m\u001b[38;5;241;43m.\u001b[39;49m\u001b[43m_exec_single_context\u001b[49m\u001b[43m(\u001b[49m\n\u001b[0;32m   1847\u001b[0m \u001b[43m        \u001b[49m\u001b[43mdialect\u001b[49m\u001b[43m,\u001b[49m\u001b[43m \u001b[49m\u001b[43mcontext\u001b[49m\u001b[43m,\u001b[49m\u001b[43m \u001b[49m\u001b[43mstatement\u001b[49m\u001b[43m,\u001b[49m\u001b[43m \u001b[49m\u001b[43mparameters\u001b[49m\n\u001b[0;32m   1848\u001b[0m \u001b[43m    \u001b[49m\u001b[43m)\u001b[49m\n",
      "File \u001b[1;32m~\\AppData\\Local\\anaconda3\\envs\\myenv\\Lib\\site-packages\\sqlalchemy\\engine\\base.py:1986\u001b[0m, in \u001b[0;36mConnection._exec_single_context\u001b[1;34m(self, dialect, context, statement, parameters)\u001b[0m\n\u001b[0;32m   1983\u001b[0m     result \u001b[38;5;241m=\u001b[39m context\u001b[38;5;241m.\u001b[39m_setup_result_proxy()\n\u001b[0;32m   1985\u001b[0m \u001b[38;5;28;01mexcept\u001b[39;00m \u001b[38;5;167;01mBaseException\u001b[39;00m \u001b[38;5;28;01mas\u001b[39;00m e:\n\u001b[1;32m-> 1986\u001b[0m     \u001b[38;5;28;43mself\u001b[39;49m\u001b[38;5;241;43m.\u001b[39;49m\u001b[43m_handle_dbapi_exception\u001b[49m\u001b[43m(\u001b[49m\n\u001b[0;32m   1987\u001b[0m \u001b[43m        \u001b[49m\u001b[43me\u001b[49m\u001b[43m,\u001b[49m\u001b[43m \u001b[49m\u001b[43mstr_statement\u001b[49m\u001b[43m,\u001b[49m\u001b[43m \u001b[49m\u001b[43meffective_parameters\u001b[49m\u001b[43m,\u001b[49m\u001b[43m \u001b[49m\u001b[43mcursor\u001b[49m\u001b[43m,\u001b[49m\u001b[43m \u001b[49m\u001b[43mcontext\u001b[49m\n\u001b[0;32m   1988\u001b[0m \u001b[43m    \u001b[49m\u001b[43m)\u001b[49m\n\u001b[0;32m   1990\u001b[0m \u001b[38;5;28;01mreturn\u001b[39;00m result\n",
      "File \u001b[1;32m~\\AppData\\Local\\anaconda3\\envs\\myenv\\Lib\\site-packages\\sqlalchemy\\engine\\base.py:2355\u001b[0m, in \u001b[0;36mConnection._handle_dbapi_exception\u001b[1;34m(self, e, statement, parameters, cursor, context, is_sub_exec)\u001b[0m\n\u001b[0;32m   2353\u001b[0m \u001b[38;5;28;01melif\u001b[39;00m should_wrap:\n\u001b[0;32m   2354\u001b[0m     \u001b[38;5;28;01massert\u001b[39;00m sqlalchemy_exception \u001b[38;5;129;01mis\u001b[39;00m \u001b[38;5;129;01mnot\u001b[39;00m \u001b[38;5;28;01mNone\u001b[39;00m\n\u001b[1;32m-> 2355\u001b[0m     \u001b[38;5;28;01mraise\u001b[39;00m sqlalchemy_exception\u001b[38;5;241m.\u001b[39mwith_traceback(exc_info[\u001b[38;5;241m2\u001b[39m]) \u001b[38;5;28;01mfrom\u001b[39;00m \u001b[38;5;21;01me\u001b[39;00m\n\u001b[0;32m   2356\u001b[0m \u001b[38;5;28;01melse\u001b[39;00m:\n\u001b[0;32m   2357\u001b[0m     \u001b[38;5;28;01massert\u001b[39;00m exc_info[\u001b[38;5;241m1\u001b[39m] \u001b[38;5;129;01mis\u001b[39;00m \u001b[38;5;129;01mnot\u001b[39;00m \u001b[38;5;28;01mNone\u001b[39;00m\n",
      "File \u001b[1;32m~\\AppData\\Local\\anaconda3\\envs\\myenv\\Lib\\site-packages\\sqlalchemy\\engine\\base.py:1967\u001b[0m, in \u001b[0;36mConnection._exec_single_context\u001b[1;34m(self, dialect, context, statement, parameters)\u001b[0m\n\u001b[0;32m   1965\u001b[0m                 \u001b[38;5;28;01mbreak\u001b[39;00m\n\u001b[0;32m   1966\u001b[0m     \u001b[38;5;28;01mif\u001b[39;00m \u001b[38;5;129;01mnot\u001b[39;00m evt_handled:\n\u001b[1;32m-> 1967\u001b[0m         \u001b[38;5;28;43mself\u001b[39;49m\u001b[38;5;241;43m.\u001b[39;49m\u001b[43mdialect\u001b[49m\u001b[38;5;241;43m.\u001b[39;49m\u001b[43mdo_execute\u001b[49m\u001b[43m(\u001b[49m\n\u001b[0;32m   1968\u001b[0m \u001b[43m            \u001b[49m\u001b[43mcursor\u001b[49m\u001b[43m,\u001b[49m\u001b[43m \u001b[49m\u001b[43mstr_statement\u001b[49m\u001b[43m,\u001b[49m\u001b[43m \u001b[49m\u001b[43meffective_parameters\u001b[49m\u001b[43m,\u001b[49m\u001b[43m \u001b[49m\u001b[43mcontext\u001b[49m\n\u001b[0;32m   1969\u001b[0m \u001b[43m        \u001b[49m\u001b[43m)\u001b[49m\n\u001b[0;32m   1971\u001b[0m \u001b[38;5;28;01mif\u001b[39;00m \u001b[38;5;28mself\u001b[39m\u001b[38;5;241m.\u001b[39m_has_events \u001b[38;5;129;01mor\u001b[39;00m \u001b[38;5;28mself\u001b[39m\u001b[38;5;241m.\u001b[39mengine\u001b[38;5;241m.\u001b[39m_has_events:\n\u001b[0;32m   1972\u001b[0m     \u001b[38;5;28mself\u001b[39m\u001b[38;5;241m.\u001b[39mdispatch\u001b[38;5;241m.\u001b[39mafter_cursor_execute(\n\u001b[0;32m   1973\u001b[0m         \u001b[38;5;28mself\u001b[39m,\n\u001b[0;32m   1974\u001b[0m         cursor,\n\u001b[1;32m   (...)\u001b[0m\n\u001b[0;32m   1978\u001b[0m         context\u001b[38;5;241m.\u001b[39mexecutemany,\n\u001b[0;32m   1979\u001b[0m     )\n",
      "File \u001b[1;32m~\\AppData\\Local\\anaconda3\\envs\\myenv\\Lib\\site-packages\\sqlalchemy\\engine\\default.py:941\u001b[0m, in \u001b[0;36mDefaultDialect.do_execute\u001b[1;34m(self, cursor, statement, parameters, context)\u001b[0m\n\u001b[0;32m    940\u001b[0m \u001b[38;5;28;01mdef\u001b[39;00m \u001b[38;5;21mdo_execute\u001b[39m(\u001b[38;5;28mself\u001b[39m, cursor, statement, parameters, context\u001b[38;5;241m=\u001b[39m\u001b[38;5;28;01mNone\u001b[39;00m):\n\u001b[1;32m--> 941\u001b[0m     \u001b[43mcursor\u001b[49m\u001b[38;5;241;43m.\u001b[39;49m\u001b[43mexecute\u001b[49m\u001b[43m(\u001b[49m\u001b[43mstatement\u001b[49m\u001b[43m,\u001b[49m\u001b[43m \u001b[49m\u001b[43mparameters\u001b[49m\u001b[43m)\u001b[49m\n",
      "\u001b[1;31mOperationalError\u001b[0m: (sqlite3.OperationalError) near \"Question\": syntax error\n[SQL: Question: what is total count of rows\nSQLQuery: SELECT COUNT(*) FROM rev]\n(Background on this error at: https://sqlalche.me/e/20/e3q8)"
     ]
    }
   ],
   "source": [
    "db.run (response)"
   ]
  },
  {
   "cell_type": "code",
   "execution_count": 52,
   "id": "5bba8215-463d-4ca5-97bc-fc57744bb910",
   "metadata": {},
   "outputs": [
    {
     "name": "stdout",
     "output_type": "stream",
     "text": [
      "Question: what is the total no. of product i have which are unique\n",
      "SQLQuery: SELECT COUNT(DISTINCT \"ProductId\") FROM rev\n"
     ]
    }
   ],
   "source": [
    "from langchain.chains import create_sql_query_chain\n",
    "\n",
    "chain = create_sql_query_chain(llm1, db)\n",
    "response =chain.invoke({\"question\" : \" what is the total no. of product i have which are unique\"})\n",
    "\n",
    "print(response)\n"
   ]
  },
  {
   "cell_type": "code",
   "execution_count": 55,
   "id": "fdbd866f-13af-434d-807e-ab0358a3f3fa",
   "metadata": {},
   "outputs": [
    {
     "name": "stdout",
     "output_type": "stream",
     "text": [
      "Total count of rows in the 'rev' table: [(396,)]\n"
     ]
    }
   ],
   "source": [
    "#db.run(response)\n",
    "\n",
    "# Execute the query to get the total row count\n",
    "query_result = db.run(\"SELECT COUNT(DISTINCT ProductId) FROM rev\")\n",
    "\n",
    "# Print the result\n",
    "print(\"Total count of rows in the 'rev' table:\", query_result)\n"
   ]
  },
  {
   "cell_type": "code",
   "execution_count": 67,
   "id": "4bfb0ce9-f9ca-4ecf-9690-21a683d66d90",
   "metadata": {},
   "outputs": [
    {
     "data": {
      "text/plain": [
       "'Error: (sqlite3.OperationalError) near \"Question\": syntax error\\n[SQL: Question: what is total revenue\\nSQLQuery: SELECT SUM(\"Revenue\") FROM rev]\\n(Background on this error at: https://sqlalche.me/e/20/e3q8)'"
      ]
     },
     "execution_count": 67,
     "metadata": {},
     "output_type": "execute_result"
    }
   ],
   "source": [
    "from langchain_community.tools.sql_database.tool import QuerySQLDatabaseTool\n",
    "\n",
    "write_query = create_sql_query_chain(llm1, db)\n",
    "\n",
    "execute_query = QuerySQLDatabaseTool(db=db)\n",
    "\n",
    "chain = write_query | execute_query\n",
    "\n",
    "chain.invoke({\"question\" : \"what is total revenue\"})"
   ]
  },
  {
   "cell_type": "code",
   "execution_count": 61,
   "id": "aeb77414-cee5-44ec-a82f-a49add8d3856",
   "metadata": {},
   "outputs": [
    {
     "name": "stdout",
     "output_type": "stream",
     "text": [
      "['Any', 'AsyncCallbackManagerForToolRun', 'BaseLanguageModel', 'BaseModel', 'BaseSQLDatabaseTool', 'BaseTool', 'CallbackManagerForToolRun', 'ConfigDict', 'Dict', 'Field', 'InfoSQLDatabaseTool', 'ListSQLDatabaseTool', 'Optional', 'PromptTemplate', 'QUERY_CHECKER', 'QuerySQLCheckerTool', 'QuerySQLDataBaseTool', 'QuerySQLDatabaseTool', 'Result', 'SQLDatabase', 'Sequence', 'Type', 'Union', '_InfoSQLDatabaseToolInput', '_ListSQLDatabaseToolInput', '_QuerySQLCheckerToolInput', '_QuerySQLDatabaseToolInput', '__builtins__', '__cached__', '__doc__', '__file__', '__loader__', '__name__', '__package__', '__spec__', 'deprecated', 'model_validator', 'root_validator']\n"
     ]
    }
   ],
   "source": [
    "import langchain_community.tools.sql_database.tool as sql_tool\n",
    "print(dir(sql_tool))"
   ]
  },
  {
   "cell_type": "code",
   "execution_count": 7,
   "id": "c2fc4e9f-aa00-46fb-9309-d56705b145c1",
   "metadata": {},
   "outputs": [
    {
     "ename": "NameError",
     "evalue": "name 'create_pandas_dataframe_agent' is not defined",
     "output_type": "error",
     "traceback": [
      "\u001b[1;31m---------------------------------------------------------------------------\u001b[0m",
      "\u001b[1;31mNameError\u001b[0m                                 Traceback (most recent call last)",
      "Cell \u001b[1;32mIn[7], line 1\u001b[0m\n\u001b[1;32m----> 1\u001b[0m agent2 \u001b[38;5;241m=\u001b[39m \u001b[43mcreate_pandas_dataframe_agent\u001b[49m(\n\u001b[0;32m      2\u001b[0m     llm1,\n\u001b[0;32m      3\u001b[0m     df_query_result,\n\u001b[0;32m      4\u001b[0m     verbose\u001b[38;5;241m=\u001b[39m\u001b[38;5;28;01mTrue\u001b[39;00m,\n\u001b[0;32m      5\u001b[0m     allow_dangerous_code\u001b[38;5;241m=\u001b[39m\u001b[38;5;28;01mTrue\u001b[39;00m  \u001b[38;5;66;03m# Enable this to opt-in to dangerous code execution\u001b[39;00m\n\u001b[0;32m      6\u001b[0m )\n",
      "\u001b[1;31mNameError\u001b[0m: name 'create_pandas_dataframe_agent' is not defined"
     ]
    }
   ],
   "source": [
    "agent2 = create_pandas_dataframe_agent(\n",
    "    llm1,\n",
    "    df_query_result,\n",
    "    verbose=True,\n",
    "    allow_dangerous_code=True  # Enable this to opt-in to dangerous code execution\n",
    ")\n"
   ]
  },
  {
   "cell_type": "code",
   "execution_count": 8,
   "id": "b5ab0b74-a01d-43b7-806c-30589cc092cd",
   "metadata": {},
   "outputs": [
    {
     "ename": "NameError",
     "evalue": "name 'create_pandas_dataframe_agent' is not defined",
     "output_type": "error",
     "traceback": [
      "\u001b[1;31m---------------------------------------------------------------------------\u001b[0m",
      "\u001b[1;31mNameError\u001b[0m                                 Traceback (most recent call last)",
      "Cell \u001b[1;32mIn[8], line 1\u001b[0m\n\u001b[1;32m----> 1\u001b[0m agent1 \u001b[38;5;241m=\u001b[39m \u001b[43mcreate_pandas_dataframe_agent\u001b[49m(\n\u001b[0;32m      2\u001b[0m     llm,\n\u001b[0;32m      3\u001b[0m     df,\n\u001b[0;32m      4\u001b[0m     verbose\u001b[38;5;241m=\u001b[39m\u001b[38;5;28;01mTrue\u001b[39;00m,\n\u001b[0;32m      5\u001b[0m     allow_dangerous_code\u001b[38;5;241m=\u001b[39m\u001b[38;5;28;01mTrue\u001b[39;00m  \u001b[38;5;66;03m# Enable this to opt-in to dangerous code execution\u001b[39;00m\n\u001b[0;32m      6\u001b[0m )\n",
      "\u001b[1;31mNameError\u001b[0m: name 'create_pandas_dataframe_agent' is not defined"
     ]
    }
   ],
   "source": [
    "agent1 = create_pandas_dataframe_agent(\n",
    "    llm,\n",
    "    df,\n",
    "    verbose=True,\n",
    "    allow_dangerous_code=True  # Enable this to opt-in to dangerous code execution\n",
    ")\n"
   ]
  },
  {
   "cell_type": "code",
   "execution_count": 84,
   "id": "fc0a276a-f2e7-4c45-a814-23b641198d7f",
   "metadata": {},
   "outputs": [
    {
     "name": "stdout",
     "output_type": "stream",
     "text": [
      "Collecting tabulate\n",
      "  Downloading tabulate-0.9.0-py3-none-any.whl.metadata (34 kB)\n",
      "Downloading tabulate-0.9.0-py3-none-any.whl (35 kB)\n",
      "Installing collected packages: tabulate\n",
      "Successfully installed tabulate-0.9.0\n",
      "Note: you may need to restart the kernel to use updated packages.\n"
     ]
    }
   ],
   "source": [
    "pip install tabulate"
   ]
  },
  {
   "cell_type": "code",
   "execution_count": 97,
   "id": "81d497d3-8abf-44d7-af43-a4e29ac3f924",
   "metadata": {},
   "outputs": [
    {
     "name": "stdout",
     "output_type": "stream",
     "text": [
      "\n",
      "\n",
      "\u001b[1m> Entering new AgentExecutor chain...\u001b[0m\n",
      "\u001b[32;1m\u001b[1;3mThought: The user is asking for some output, but they didn't specify what they want to see. I could give them the first few rows of the dataframe, the number of rows and columns, or some basic statistics about the data. I'll start by showing them the first few rows of the dataframe.\n",
      "\n",
      "Action: python_repl_ast\n",
      "Action Input: print(df.head())\u001b[0m\u001b[36;1m\u001b[1;3m  CBTRevenueId                 Date DataSourceId ProductId       ProductKey  \\\n",
      "0      5263388  2024-08-01 00:00:00           24       247  ZXT  1FB-M00139   \n",
      "1      5263389  2024-08-01 00:00:00           24       482  AHL  1FB-M04298   \n",
      "2      5263390  2024-08-01 00:00:00           24       202  9ZR  1FB-M00309   \n",
      "3      5263391  2024-08-01 00:00:00           24       200  ARREG1FB-M04372   \n",
      "4      5263392  2024-08-01 00:00:00           24       396  C5PEX1FB-M03682   \n",
      "\n",
      "    USOC ClassOfService    RAC  AccountNumber WorkingTelephoneNumber  \\\n",
      "0  ZXT            1FB-M  00139  5139369200681             5139369200   \n",
      "1  AHL            1FB-M  04298  5139369200681             5139369200   \n",
      "2  9ZR            1FB-M  00309  5139369200681             5139369200   \n",
      "3  ARREG          1FB-M  04372  5139369200681             5139369200   \n",
      "4  C5PEX          1FB-M  03682  5139369200681             5139369200   \n",
      "\n",
      "  RegionCode CompanyCode RevenueType              Brand     Market  \\\n",
      "0        278        ILEC   Recurring  CopperNonFioptics  Strategic   \n",
      "1        278        ILEC   Recurring  CopperNonFioptics  Strategic   \n",
      "2        278        ILEC   Recurring  CopperNonFioptics  Strategic   \n",
      "3        278        ILEC   Recurring  CopperNonFioptics  Strategic   \n",
      "4        278        ILEC   Recurring  CopperNonFioptics  Strategic   \n",
      "\n",
      "  FunctionCode  Revenue          DAWLoadDate vchCircuitId vchCircuitLocation  \\\n",
      "0       5RFH05      NaN  2024-09-10 00:00:00          NaN                NaN   \n",
      "1       5WAB        NaN  2024-09-10 00:00:00          NaN                NaN   \n",
      "2       5WA0        NaN  2024-09-10 00:00:00          NaN                NaN   \n",
      "3       5WAE        NaN  2024-09-10 00:00:00          NaN                NaN   \n",
      "4       5RF042      NaN  2024-09-10 00:00:00          NaN                NaN   \n",
      "\n",
      "  Division SubDivision JournalCode  \n",
      "0      NaN         NaN         NaN  \n",
      "1      NaN         NaN         NaN  \n",
      "2      NaN         NaN         NaN  \n",
      "3      NaN         NaN         NaN  \n",
      "4      NaN         NaN         NaN  \n",
      "\u001b[0m\u001b[32;1m\u001b[1;3mThe user has asked for some output, but they didn't specify what they want to see. I have shown them the first five rows of the dataframe using `print(df.head())`. This output displays the first few rows of the dataframe, which should give the user a general idea of the structure and content of the data. If the user has a more specific question or request, I can use that information to generate a more targeted output.\n",
      "\n",
      "Final Answer: Here is the output of the first five rows of the dataframe:\n",
      "\n",
      "|    |   CBTRevenueId | Date                |   DataSourceId |   ProductId | ProductKey      | USOC   | ClassOfService   |   RAC |   AccountNumber |   WorkingTelephoneNumber |   RegionCode | CompanyCode   | RevenueType   | Brand             | Market    | FunctionCode   |   Revenue | DAWLoadDate         |   vchCircuitId |   vchCircuitLocation |   Division |   SubDivision |   JournalCode |\n",
      "|---:|---------------:|:--------------------|---------------:|------------:|:----------------|:-------|:-----------------|------:|----------------:|-------------------------:|-------------:|:--------------|:--------------|:------------------|:----------|:---------------|----------:|:--------------------|---------------:|---------------------:|-----------:|--------------:|--------------:|\n",
      "|  0 |        5263388 | 2024-08-01 00:00:00 |             24 |         247 | ZXT  1FB-M00139 | ZXT    | 1FB-M            | 00139 |   5139369200681 |               5139369200 |          278 | ILEC          | Recurring     | CopperNonFioptics | Strategic | 5RFH05         |      0.09 | 2024-09-10 00:00:00 |            nan |                  nan |        nan |           nan |           nan |\n",
      "|  1 |        5263389 | 2024-08-01 00:00:00 |             24 |         482 | AHL  1FB-M04298 | AHL    | 1FB-M            | 04298 |   5139369200681 |               5139369200 |          278 | ILEC          | Recurring     | CopperNonFioptics | Strategic | 5WAB           |      0.01 | 2024-09-10 00:00:00 |            nan |                  nan |        nan |           nan |           nan |\n",
      "|  2 |        5263390 | 2024-08-01 00:00:00 |             24 |         202 | 9ZR  1FB-M00309 | 9ZR    | 1FB-M            | 00309 |   5139369200681 |               5139369200 |          278 | ILEC          | Recurring     | CopperNonFioptics | Strategic | 5WA0           |      1.17 | 2024-09-10 00:00:00 |            nan |                  nan |        nan |           nan |           nan |\n",
      "|  3 |        5263391 | 2024-08-01 00:00:00 |             24 |         200 | ARREG1FB-M04372 | ARREG  | 1FB-M            | 04372 |   5139369200681 |               5139369200 |          278 | ILEC          | Recurring     | CopperNonFioptics | Strategic | 5WAE           |      0.44 | 2024-09-10 00:00:00 |            nan |                  nan |        nan |           nan |           nan |\n",
      "|  4 |        5263392 | 2024-08-01 00:00:00 |             24 |         396 | C5PEX1FB-M03682 | C5PEX  | 1FB-M            | 03682 |   5139369200681 |               5139369200 |          278 | ILEC          | Recurring     | CopperNonFioptics | Strategic | 5RF042         |      6    | 2024-09-10 00:00:00 |            nan |                  nan |        nan |           nan |           nan |\u001b[0m\n",
      "\n",
      "\u001b[1m> Finished chain.\u001b[0m\n"
     ]
    },
    {
     "data": {
      "text/plain": [
       "{'input': 'give me some good output?',\n",
       " 'output': 'Here is the output of the first five rows of the dataframe:\\n\\n|    |   CBTRevenueId | Date                |   DataSourceId |   ProductId | ProductKey      | USOC   | ClassOfService   |   RAC |   AccountNumber |   WorkingTelephoneNumber |   RegionCode | CompanyCode   | RevenueType   | Brand             | Market    | FunctionCode   |   Revenue | DAWLoadDate         |   vchCircuitId |   vchCircuitLocation |   Division |   SubDivision |   JournalCode |\\n|---:|---------------:|:--------------------|---------------:|------------:|:----------------|:-------|:-----------------|------:|----------------:|-------------------------:|-------------:|:--------------|:--------------|:------------------|:----------|:---------------|----------:|:--------------------|---------------:|---------------------:|-----------:|--------------:|--------------:|\\n|  0 |        5263388 | 2024-08-01 00:00:00 |             24 |         247 | ZXT  1FB-M00139 | ZXT    | 1FB-M            | 00139 |   5139369200681 |               5139369200 |          278 | ILEC          | Recurring     | CopperNonFioptics | Strategic | 5RFH05         |      0.09 | 2024-09-10 00:00:00 |            nan |                  nan |        nan |           nan |           nan |\\n|  1 |        5263389 | 2024-08-01 00:00:00 |             24 |         482 | AHL  1FB-M04298 | AHL    | 1FB-M            | 04298 |   5139369200681 |               5139369200 |          278 | ILEC          | Recurring     | CopperNonFioptics | Strategic | 5WAB           |      0.01 | 2024-09-10 00:00:00 |            nan |                  nan |        nan |           nan |           nan |\\n|  2 |        5263390 | 2024-08-01 00:00:00 |             24 |         202 | 9ZR  1FB-M00309 | 9ZR    | 1FB-M            | 00309 |   5139369200681 |               5139369200 |          278 | ILEC          | Recurring     | CopperNonFioptics | Strategic | 5WA0           |      1.17 | 2024-09-10 00:00:00 |            nan |                  nan |        nan |           nan |           nan |\\n|  3 |        5263391 | 2024-08-01 00:00:00 |             24 |         200 | ARREG1FB-M04372 | ARREG  | 1FB-M            | 04372 |   5139369200681 |               5139369200 |          278 | ILEC          | Recurring     | CopperNonFioptics | Strategic | 5WAE           |      0.44 | 2024-09-10 00:00:00 |            nan |                  nan |        nan |           nan |           nan |\\n|  4 |        5263392 | 2024-08-01 00:00:00 |             24 |         396 | C5PEX1FB-M03682 | C5PEX  | 1FB-M            | 03682 |   5139369200681 |               5139369200 |          278 | ILEC          | Recurring     | CopperNonFioptics | Strategic | 5RF042         |      6    | 2024-09-10 00:00:00 |            nan |                  nan |        nan |           nan |           nan |'}"
      ]
     },
     "execution_count": 97,
     "metadata": {},
     "output_type": "execute_result"
    }
   ],
   "source": [
    "agent.invoke(\"give me some good output?\")"
   ]
  },
  {
   "cell_type": "code",
   "execution_count": 99,
   "id": "8e54cee9-11fc-49e1-bb23-ec1852fa11a1",
   "metadata": {},
   "outputs": [
    {
     "name": "stdout",
     "output_type": "stream",
     "text": [
      "\n",
      "\n",
      "\u001b[1m> Entering new AgentExecutor chain...\u001b[0m\n",
      "\u001b[32;1m\u001b[1;3mThought: The user is asking for information about the dataframe's structure, such as column names and data types. I can use the `info()` function in pandas to get this information.\n",
      "\n",
      "Action: python_repl_ast\n",
      "Action Input: df.info()\u001b[0m\u001b[36;1m\u001b[1;3m<class 'pandas.core.frame.DataFrame'>\n",
      "RangeIndex: 1643711 entries, 0 to 1643710\n",
      "Data columns (total 23 columns):\n",
      " #   Column                  Non-Null Count    Dtype  \n",
      "---  ------                  --------------    -----  \n",
      " 0   CBTRevenueId            1643711 non-null  object \n",
      " 1   Date                    1643711 non-null  object \n",
      " 2   DataSourceId            1643711 non-null  object \n",
      " 3   ProductId               1643711 non-null  object \n",
      " 4   ProductKey              1642959 non-null  object \n",
      " 5   USOC                    1614413 non-null  object \n",
      " 6   ClassOfService          1614750 non-null  object \n",
      " 7   RAC                     1614798 non-null  object \n",
      " 8   AccountNumber           1641639 non-null  object \n",
      " 9   WorkingTelephoneNumber  1554982 non-null  object \n",
      " 10  RegionCode              1642086 non-null  object \n",
      " 11  CompanyCode             1633711 non-null  object \n",
      " 12  RevenueType             1633711 non-null  object \n",
      " 13  Brand                   1643708 non-null  object \n",
      " 14  Market                  1641890 non-null  object \n",
      " 15  FunctionCode            1643711 non-null  object \n",
      " 16  Revenue                 0 non-null        float64\n",
      " 17  DAWLoadDate             1643711 non-null  object \n",
      " 18  vchCircuitId            77805 non-null    object \n",
      " 19  vchCircuitLocation      989394 non-null   object \n",
      " 20  Division                10001 non-null    object \n",
      " 21  SubDivision             1 non-null        object \n",
      " 22  JournalCode             10001 non-null    object \n",
      "dtypes: float64(1), object(22)\n",
      "memory usage: 288.4+ MB\n",
      "\u001b[0m\u001b[32;1m\u001b[1;3mI now know the final answer.\n",
      "\n",
      "Final Answer: The dataframe has 23 columns in total, with the following names: CBTRevenueId, Date, DataSourceId, ProductId, ProductKey, USOC, ClassOfService, RAC, AccountNumber, WorkingTelephoneNumber, RegionCode, CompanyCode, RevenueType, Brand, Market, FunctionCode, Revenue, DAWLoadDate, vchCircuitId, vchCircuitLocation, Division, SubDivision, and JournalCode. The data types of these columns are a mix of float64 and object (which typically corresponds to strings). There are some missing values in the dataframe, as indicated by the \"non-null\" counts being less than the total number of rows for some columns. The memory usage of the dataframe is approximately 288.4 MB.\u001b[0m\n",
      "\n",
      "\u001b[1m> Finished chain.\u001b[0m\n"
     ]
    },
    {
     "data": {
      "text/plain": [
       "{'input': 'give me the meta data?',\n",
       " 'output': 'The dataframe has 23 columns in total, with the following names: CBTRevenueId, Date, DataSourceId, ProductId, ProductKey, USOC, ClassOfService, RAC, AccountNumber, WorkingTelephoneNumber, RegionCode, CompanyCode, RevenueType, Brand, Market, FunctionCode, Revenue, DAWLoadDate, vchCircuitId, vchCircuitLocation, Division, SubDivision, and JournalCode. The data types of these columns are a mix of float64 and object (which typically corresponds to strings). There are some missing values in the dataframe, as indicated by the \"non-null\" counts being less than the total number of rows for some columns. The memory usage of the dataframe is approximately 288.4 MB.'}"
      ]
     },
     "execution_count": 99,
     "metadata": {},
     "output_type": "execute_result"
    }
   ],
   "source": [
    "agent.invoke(\"how many product is there?\")"
   ]
  },
  {
   "cell_type": "code",
   "execution_count": 122,
   "id": "3f30360a-0a1e-451e-8ba4-c0117adf9587",
   "metadata": {},
   "outputs": [
    {
     "name": "stdout",
     "output_type": "stream",
     "text": [
      "\n",
      "\n",
      "\u001b[1m> Entering new AgentExecutor chain...\u001b[0m\n",
      "\u001b[32;1m\u001b[1;3mThought: To find out how many products there are, I need to find out the unique number of product IDs in the dataframe.\n",
      "Action: python_repl_ast\n",
      "Action Input: len(df['ProductId'].unique())\u001b[0m\u001b[36;1m\u001b[1;3m261\u001b[0m\u001b[32;1m\u001b[1;3mI now know the final answer\n",
      "Final Answer: There are 261 unique products in the dataframe.\u001b[0m\n",
      "\n",
      "\u001b[1m> Finished chain.\u001b[0m\n"
     ]
    },
    {
     "data": {
      "text/plain": [
       "{'input': 'how many product are there?',\n",
       " 'output': 'There are 261 unique products in the dataframe.'}"
      ]
     },
     "execution_count": 122,
     "metadata": {},
     "output_type": "execute_result"
    }
   ],
   "source": [
    "agent2.invoke(\"how many product are there?\")"
   ]
  },
  {
   "cell_type": "code",
   "execution_count": 128,
   "id": "5102aa02-2dc3-4546-a95f-188c4e0ed482",
   "metadata": {},
   "outputs": [
    {
     "name": "stdout",
     "output_type": "stream",
     "text": [
      "\n",
      "\n",
      "\u001b[1m> Entering new AgentExecutor chain...\u001b[0m\n",
      "\u001b[32;1m\u001b[1;3mThought: To answer this question, I need to find the 'Revenue' column in the dataframe and print its values.\n",
      "Action: python_repl_ast\n",
      "Action Input: df['Revenue']\u001b[0m\u001b[36;1m\u001b[1;3m0          None\n",
      "1          None\n",
      "2          None\n",
      "3          None\n",
      "4          None\n",
      "           ... \n",
      "1643706    None\n",
      "1643707    None\n",
      "1643708    None\n",
      "1643709    None\n",
      "1643710    None\n",
      "Name: Revenue, Length: 1643711, dtype: object\u001b[0m\u001b[32;1m\u001b[1;3mIt seems like the 'Revenue' column in the dataframe only contains None values. This might mean that the data is not properly loaded or the Revenue values are stored in a different column.\n",
      "\n",
      "Final Answer: Unfortunately, I couldn't find any Revenue values in the dataframe as the 'Revenue' column only contains None values.\u001b[0m\n",
      "\n",
      "\u001b[1m> Finished chain.\u001b[0m\n"
     ]
    },
    {
     "data": {
      "text/plain": [
       "{'input': 'show me the reveneu from the dataframe',\n",
       " 'output': \"Unfortunately, I couldn't find any Revenue values in the dataframe as the 'Revenue' column only contains None values.\"}"
      ]
     },
     "execution_count": 128,
     "metadata": {},
     "output_type": "execute_result"
    }
   ],
   "source": [
    "agent2.invoke(\"show me the reveneu from the dataframe\")"
   ]
  },
  {
   "cell_type": "code",
   "execution_count": 123,
   "id": "b3ee96f2-7fd1-4d93-9fce-181443717c4d",
   "metadata": {},
   "outputs": [
    {
     "data": {
      "text/plain": [
       "261"
      ]
     },
     "execution_count": 123,
     "metadata": {},
     "output_type": "execute_result"
    }
   ],
   "source": [
    "len(df['ProductId'].unique())"
   ]
  },
  {
   "cell_type": "code",
   "execution_count": 90,
   "id": "7b8a43a2-5053-436c-b812-71b934922fbf",
   "metadata": {},
   "outputs": [
    {
     "name": "stderr",
     "output_type": "stream",
     "text": [
      "<>:4: SyntaxWarning: invalid escape sequence '\\D'\n",
      "<>:4: SyntaxWarning: invalid escape sequence '\\D'\n",
      "C:\\Users\\pbag604\\AppData\\Local\\Temp\\ipykernel_11000\\596734852.py:4: SyntaxWarning: invalid escape sequence '\\D'\n",
      "  df['Revenue'] = df['Revenue'].replace({'\\D': np.nan}, regex=True).astype(float)\n",
      "C:\\Users\\pbag604\\AppData\\Local\\Temp\\ipykernel_11000\\596734852.py:4: FutureWarning: Downcasting behavior in `replace` is deprecated and will be removed in a future version. To retain the old behavior, explicitly call `result.infer_objects(copy=False)`. To opt-in to the future behavior, set `pd.set_option('future.no_silent_downcasting', True)`\n",
      "  df['Revenue'] = df['Revenue'].replace({'\\D': np.nan}, regex=True).astype(float)\n"
     ]
    }
   ],
   "source": [
    "import pandas as pd\n",
    "import numpy as np\n",
    "\n",
    "df['Revenue'] = df['Revenue'].replace({'\\D': np.nan}, regex=True).astype(float)\n",
    "revenue_df = df.groupby('ProductId')['Revenue'].sum().reset_index(name='TotalRevenue')"
   ]
  },
  {
   "cell_type": "code",
   "execution_count": 101,
   "id": "4aa41586-3879-4a88-b05b-b41ccdfa2d1d",
   "metadata": {},
   "outputs": [
    {
     "data": {
      "text/plain": [
       "0.0"
      ]
     },
     "execution_count": 101,
     "metadata": {},
     "output_type": "execute_result"
    }
   ],
   "source": [
    "df['Revenue'].sum()"
   ]
  },
  {
   "cell_type": "code",
   "execution_count": 102,
   "id": "4cb343c8-ef57-431d-aedc-804c3bb693c0",
   "metadata": {},
   "outputs": [
    {
     "data": {
      "text/html": [
       "<div>\n",
       "<style scoped>\n",
       "    .dataframe tbody tr th:only-of-type {\n",
       "        vertical-align: middle;\n",
       "    }\n",
       "\n",
       "    .dataframe tbody tr th {\n",
       "        vertical-align: top;\n",
       "    }\n",
       "\n",
       "    .dataframe thead th {\n",
       "        text-align: right;\n",
       "    }\n",
       "</style>\n",
       "<table border=\"1\" class=\"dataframe\">\n",
       "  <thead>\n",
       "    <tr style=\"text-align: right;\">\n",
       "      <th></th>\n",
       "      <th>CBTRevenueId</th>\n",
       "      <th>Date</th>\n",
       "      <th>DataSourceId</th>\n",
       "      <th>ProductId</th>\n",
       "      <th>ProductKey</th>\n",
       "      <th>USOC</th>\n",
       "      <th>ClassOfService</th>\n",
       "      <th>RAC</th>\n",
       "      <th>AccountNumber</th>\n",
       "      <th>WorkingTelephoneNumber</th>\n",
       "      <th>RegionCode</th>\n",
       "      <th>CompanyCode</th>\n",
       "      <th>RevenueType</th>\n",
       "      <th>Brand</th>\n",
       "      <th>Market</th>\n",
       "      <th>FunctionCode</th>\n",
       "      <th>Revenue</th>\n",
       "      <th>DAWLoadDate</th>\n",
       "      <th>vchCircuitId</th>\n",
       "      <th>vchCircuitLocation</th>\n",
       "      <th>Division</th>\n",
       "      <th>SubDivision</th>\n",
       "      <th>JournalCode</th>\n",
       "    </tr>\n",
       "  </thead>\n",
       "  <tbody>\n",
       "    <tr>\n",
       "      <th>0</th>\n",
       "      <td>5263388</td>\n",
       "      <td>2024-08-01 00:00:00</td>\n",
       "      <td>24</td>\n",
       "      <td>247</td>\n",
       "      <td>ZXT  1FB-M00139</td>\n",
       "      <td>ZXT</td>\n",
       "      <td>1FB-M</td>\n",
       "      <td>00139</td>\n",
       "      <td>5139369200681</td>\n",
       "      <td>5139369200</td>\n",
       "      <td>278</td>\n",
       "      <td>ILEC</td>\n",
       "      <td>Recurring</td>\n",
       "      <td>CopperNonFioptics</td>\n",
       "      <td>Strategic</td>\n",
       "      <td>5RFH05</td>\n",
       "      <td>NaN</td>\n",
       "      <td>2024-09-10 00:00:00</td>\n",
       "      <td>NaN</td>\n",
       "      <td>NaN</td>\n",
       "      <td>NaN</td>\n",
       "      <td>NaN</td>\n",
       "      <td>NaN</td>\n",
       "    </tr>\n",
       "    <tr>\n",
       "      <th>1</th>\n",
       "      <td>5263389</td>\n",
       "      <td>2024-08-01 00:00:00</td>\n",
       "      <td>24</td>\n",
       "      <td>482</td>\n",
       "      <td>AHL  1FB-M04298</td>\n",
       "      <td>AHL</td>\n",
       "      <td>1FB-M</td>\n",
       "      <td>04298</td>\n",
       "      <td>5139369200681</td>\n",
       "      <td>5139369200</td>\n",
       "      <td>278</td>\n",
       "      <td>ILEC</td>\n",
       "      <td>Recurring</td>\n",
       "      <td>CopperNonFioptics</td>\n",
       "      <td>Strategic</td>\n",
       "      <td>5WAB</td>\n",
       "      <td>NaN</td>\n",
       "      <td>2024-09-10 00:00:00</td>\n",
       "      <td>NaN</td>\n",
       "      <td>NaN</td>\n",
       "      <td>NaN</td>\n",
       "      <td>NaN</td>\n",
       "      <td>NaN</td>\n",
       "    </tr>\n",
       "    <tr>\n",
       "      <th>2</th>\n",
       "      <td>5263390</td>\n",
       "      <td>2024-08-01 00:00:00</td>\n",
       "      <td>24</td>\n",
       "      <td>202</td>\n",
       "      <td>9ZR  1FB-M00309</td>\n",
       "      <td>9ZR</td>\n",
       "      <td>1FB-M</td>\n",
       "      <td>00309</td>\n",
       "      <td>5139369200681</td>\n",
       "      <td>5139369200</td>\n",
       "      <td>278</td>\n",
       "      <td>ILEC</td>\n",
       "      <td>Recurring</td>\n",
       "      <td>CopperNonFioptics</td>\n",
       "      <td>Strategic</td>\n",
       "      <td>5WA0</td>\n",
       "      <td>NaN</td>\n",
       "      <td>2024-09-10 00:00:00</td>\n",
       "      <td>NaN</td>\n",
       "      <td>NaN</td>\n",
       "      <td>NaN</td>\n",
       "      <td>NaN</td>\n",
       "      <td>NaN</td>\n",
       "    </tr>\n",
       "    <tr>\n",
       "      <th>3</th>\n",
       "      <td>5263391</td>\n",
       "      <td>2024-08-01 00:00:00</td>\n",
       "      <td>24</td>\n",
       "      <td>200</td>\n",
       "      <td>ARREG1FB-M04372</td>\n",
       "      <td>ARREG</td>\n",
       "      <td>1FB-M</td>\n",
       "      <td>04372</td>\n",
       "      <td>5139369200681</td>\n",
       "      <td>5139369200</td>\n",
       "      <td>278</td>\n",
       "      <td>ILEC</td>\n",
       "      <td>Recurring</td>\n",
       "      <td>CopperNonFioptics</td>\n",
       "      <td>Strategic</td>\n",
       "      <td>5WAE</td>\n",
       "      <td>NaN</td>\n",
       "      <td>2024-09-10 00:00:00</td>\n",
       "      <td>NaN</td>\n",
       "      <td>NaN</td>\n",
       "      <td>NaN</td>\n",
       "      <td>NaN</td>\n",
       "      <td>NaN</td>\n",
       "    </tr>\n",
       "    <tr>\n",
       "      <th>4</th>\n",
       "      <td>5263392</td>\n",
       "      <td>2024-08-01 00:00:00</td>\n",
       "      <td>24</td>\n",
       "      <td>396</td>\n",
       "      <td>C5PEX1FB-M03682</td>\n",
       "      <td>C5PEX</td>\n",
       "      <td>1FB-M</td>\n",
       "      <td>03682</td>\n",
       "      <td>5139369200681</td>\n",
       "      <td>5139369200</td>\n",
       "      <td>278</td>\n",
       "      <td>ILEC</td>\n",
       "      <td>Recurring</td>\n",
       "      <td>CopperNonFioptics</td>\n",
       "      <td>Strategic</td>\n",
       "      <td>5RF042</td>\n",
       "      <td>NaN</td>\n",
       "      <td>2024-09-10 00:00:00</td>\n",
       "      <td>NaN</td>\n",
       "      <td>NaN</td>\n",
       "      <td>NaN</td>\n",
       "      <td>NaN</td>\n",
       "      <td>NaN</td>\n",
       "    </tr>\n",
       "    <tr>\n",
       "      <th>...</th>\n",
       "      <td>...</td>\n",
       "      <td>...</td>\n",
       "      <td>...</td>\n",
       "      <td>...</td>\n",
       "      <td>...</td>\n",
       "      <td>...</td>\n",
       "      <td>...</td>\n",
       "      <td>...</td>\n",
       "      <td>...</td>\n",
       "      <td>...</td>\n",
       "      <td>...</td>\n",
       "      <td>...</td>\n",
       "      <td>...</td>\n",
       "      <td>...</td>\n",
       "      <td>...</td>\n",
       "      <td>...</td>\n",
       "      <td>...</td>\n",
       "      <td>...</td>\n",
       "      <td>...</td>\n",
       "      <td>...</td>\n",
       "      <td>...</td>\n",
       "      <td>...</td>\n",
       "      <td>...</td>\n",
       "    </tr>\n",
       "    <tr>\n",
       "      <th>1643706</th>\n",
       "      <td>416606642</td>\n",
       "      <td>2024-10-01 00:00:00</td>\n",
       "      <td>24</td>\n",
       "      <td>247</td>\n",
       "      <td>ZXT  LMB  00136</td>\n",
       "      <td>NaN</td>\n",
       "      <td>NaN</td>\n",
       "      <td>NaN</td>\n",
       "      <td>ZXT</td>\n",
       "      <td>LMB</td>\n",
       "      <td>00136</td>\n",
       "      <td>NaN</td>\n",
       "      <td>NaN</td>\n",
       "      <td>5138940169235</td>\n",
       "      <td>5138940169</td>\n",
       "      <td>135</td>\n",
       "      <td>NaN</td>\n",
       "      <td>Recurring</td>\n",
       "      <td>CopperNonFioptics</td>\n",
       "      <td>Strategic</td>\n",
       "      <td>5RFH02</td>\n",
       "      <td>NaN</td>\n",
       "      <td>.07</td>\n",
       "    </tr>\n",
       "    <tr>\n",
       "      <th>1643707</th>\n",
       "      <td>416606643</td>\n",
       "      <td>2024-10-01 00:00:00</td>\n",
       "      <td>23</td>\n",
       "      <td>168</td>\n",
       "      <td>6548VMZR  04281</td>\n",
       "      <td>NaN</td>\n",
       "      <td>NaN</td>\n",
       "      <td>NaN</td>\n",
       "      <td>6548V</td>\n",
       "      <td>MZR</td>\n",
       "      <td>04281</td>\n",
       "      <td>NaN</td>\n",
       "      <td>NaN</td>\n",
       "      <td>8591168361340</td>\n",
       "      <td>8591168361</td>\n",
       "      <td>460</td>\n",
       "      <td>NaN</td>\n",
       "      <td>Recurring</td>\n",
       "      <td>FiberFioptics</td>\n",
       "      <td>Consumer</td>\n",
       "      <td>FQ0101</td>\n",
       "      <td>NaN</td>\n",
       "      <td>-59.99</td>\n",
       "    </tr>\n",
       "    <tr>\n",
       "      <th>1643708</th>\n",
       "      <td>416606644</td>\n",
       "      <td>2024-10-01 00:00:00</td>\n",
       "      <td>24</td>\n",
       "      <td>18</td>\n",
       "      <td>6203VMZR  04281</td>\n",
       "      <td>NaN</td>\n",
       "      <td>NaN</td>\n",
       "      <td>NaN</td>\n",
       "      <td>6203V</td>\n",
       "      <td>MZR</td>\n",
       "      <td>04281</td>\n",
       "      <td>NaN</td>\n",
       "      <td>NaN</td>\n",
       "      <td>5131289476768</td>\n",
       "      <td>5131289476</td>\n",
       "      <td>234</td>\n",
       "      <td>NaN</td>\n",
       "      <td>Recurring</td>\n",
       "      <td>FiberFioptics</td>\n",
       "      <td>Consumer</td>\n",
       "      <td>FQ0101</td>\n",
       "      <td>NaN</td>\n",
       "      <td>12.64</td>\n",
       "    </tr>\n",
       "    <tr>\n",
       "      <th>1643709</th>\n",
       "      <td>416606645</td>\n",
       "      <td>2024-10-01 00:00:00</td>\n",
       "      <td>51</td>\n",
       "      <td>43</td>\n",
       "      <td>6604VMZR  04281</td>\n",
       "      <td>NaN</td>\n",
       "      <td>NaN</td>\n",
       "      <td>NaN</td>\n",
       "      <td>6604V</td>\n",
       "      <td>MZR</td>\n",
       "      <td>04281</td>\n",
       "      <td>NaN</td>\n",
       "      <td>NaN</td>\n",
       "      <td>8591185957821</td>\n",
       "      <td>8591185957</td>\n",
       "      <td>426</td>\n",
       "      <td>NaN</td>\n",
       "      <td>Recurring</td>\n",
       "      <td>FiberFioptics</td>\n",
       "      <td>Consumer</td>\n",
       "      <td>FQ0101</td>\n",
       "      <td>NaN</td>\n",
       "      <td>59.99</td>\n",
       "    </tr>\n",
       "    <tr>\n",
       "      <th>1643710</th>\n",
       "      <td>416606646</td>\n",
       "      <td>2024-10-01 00:00:00</td>\n",
       "      <td>23</td>\n",
       "      <td>202</td>\n",
       "      <td>1FR  00309</td>\n",
       "      <td>NaN</td>\n",
       "      <td>NaN</td>\n",
       "      <td>NaN</td>\n",
       "      <td></td>\n",
       "      <td>1FR</td>\n",
       "      <td>00309</td>\n",
       "      <td>NaN</td>\n",
       "      <td>NaN</td>\n",
       "      <td>8593448144725</td>\n",
       "      <td>8593448144</td>\n",
       "      <td>424</td>\n",
       "      <td>NaN</td>\n",
       "      <td>Recurring</td>\n",
       "      <td>FiberFioptics</td>\n",
       "      <td>Consumer</td>\n",
       "      <td>5WA1</td>\n",
       "      <td>NaN</td>\n",
       "      <td>.12</td>\n",
       "    </tr>\n",
       "  </tbody>\n",
       "</table>\n",
       "<p>1643711 rows × 23 columns</p>\n",
       "</div>"
      ],
      "text/plain": [
       "        CBTRevenueId                 Date DataSourceId ProductId  \\\n",
       "0            5263388  2024-08-01 00:00:00           24       247   \n",
       "1            5263389  2024-08-01 00:00:00           24       482   \n",
       "2            5263390  2024-08-01 00:00:00           24       202   \n",
       "3            5263391  2024-08-01 00:00:00           24       200   \n",
       "4            5263392  2024-08-01 00:00:00           24       396   \n",
       "...              ...                  ...          ...       ...   \n",
       "1643706    416606642  2024-10-01 00:00:00           24       247   \n",
       "1643707    416606643  2024-10-01 00:00:00           23       168   \n",
       "1643708    416606644  2024-10-01 00:00:00           24        18   \n",
       "1643709    416606645  2024-10-01 00:00:00           51        43   \n",
       "1643710    416606646  2024-10-01 00:00:00           23       202   \n",
       "\n",
       "              ProductKey   USOC ClassOfService    RAC  AccountNumber  \\\n",
       "0        ZXT  1FB-M00139  ZXT            1FB-M  00139  5139369200681   \n",
       "1        AHL  1FB-M04298  AHL            1FB-M  04298  5139369200681   \n",
       "2        9ZR  1FB-M00309  9ZR            1FB-M  00309  5139369200681   \n",
       "3        ARREG1FB-M04372  ARREG          1FB-M  04372  5139369200681   \n",
       "4        C5PEX1FB-M03682  C5PEX          1FB-M  03682  5139369200681   \n",
       "...                  ...    ...            ...    ...            ...   \n",
       "1643706  ZXT  LMB  00136    NaN            NaN    NaN          ZXT     \n",
       "1643707  6548VMZR  04281    NaN            NaN    NaN          6548V   \n",
       "1643708  6203VMZR  04281    NaN            NaN    NaN          6203V   \n",
       "1643709  6604VMZR  04281    NaN            NaN    NaN          6604V   \n",
       "1643710       1FR  00309    NaN            NaN    NaN                  \n",
       "\n",
       "        WorkingTelephoneNumber RegionCode CompanyCode RevenueType  \\\n",
       "0                   5139369200        278        ILEC   Recurring   \n",
       "1                   5139369200        278        ILEC   Recurring   \n",
       "2                   5139369200        278        ILEC   Recurring   \n",
       "3                   5139369200        278        ILEC   Recurring   \n",
       "4                   5139369200        278        ILEC   Recurring   \n",
       "...                        ...        ...         ...         ...   \n",
       "1643706                  LMB        00136         NaN         NaN   \n",
       "1643707                  MZR        04281         NaN         NaN   \n",
       "1643708                  MZR        04281         NaN         NaN   \n",
       "1643709                  MZR        04281         NaN         NaN   \n",
       "1643710                  1FR        00309         NaN         NaN   \n",
       "\n",
       "                     Brand      Market FunctionCode  Revenue  \\\n",
       "0        CopperNonFioptics   Strategic       5RFH05      NaN   \n",
       "1        CopperNonFioptics   Strategic       5WAB        NaN   \n",
       "2        CopperNonFioptics   Strategic       5WA0        NaN   \n",
       "3        CopperNonFioptics   Strategic       5WAE        NaN   \n",
       "4        CopperNonFioptics   Strategic       5RF042      NaN   \n",
       "...                    ...         ...          ...      ...   \n",
       "1643706      5138940169235  5138940169          135      NaN   \n",
       "1643707      8591168361340  8591168361          460      NaN   \n",
       "1643708      5131289476768  5131289476          234      NaN   \n",
       "1643709      8591185957821  8591185957          426      NaN   \n",
       "1643710      8593448144725  8593448144          424      NaN   \n",
       "\n",
       "                 DAWLoadDate       vchCircuitId vchCircuitLocation Division  \\\n",
       "0        2024-09-10 00:00:00                NaN                NaN      NaN   \n",
       "1        2024-09-10 00:00:00                NaN                NaN      NaN   \n",
       "2        2024-09-10 00:00:00                NaN                NaN      NaN   \n",
       "3        2024-09-10 00:00:00                NaN                NaN      NaN   \n",
       "4        2024-09-10 00:00:00                NaN                NaN      NaN   \n",
       "...                      ...                ...                ...      ...   \n",
       "1643706            Recurring  CopperNonFioptics          Strategic   5RFH02   \n",
       "1643707            Recurring      FiberFioptics           Consumer   FQ0101   \n",
       "1643708            Recurring      FiberFioptics           Consumer   FQ0101   \n",
       "1643709            Recurring      FiberFioptics           Consumer   FQ0101   \n",
       "1643710            Recurring      FiberFioptics           Consumer   5WA1     \n",
       "\n",
       "        SubDivision JournalCode  \n",
       "0               NaN         NaN  \n",
       "1               NaN         NaN  \n",
       "2               NaN         NaN  \n",
       "3               NaN         NaN  \n",
       "4               NaN         NaN  \n",
       "...             ...         ...  \n",
       "1643706         NaN         .07  \n",
       "1643707         NaN      -59.99  \n",
       "1643708         NaN       12.64  \n",
       "1643709         NaN       59.99  \n",
       "1643710         NaN         .12  \n",
       "\n",
       "[1643711 rows x 23 columns]"
      ]
     },
     "execution_count": 102,
     "metadata": {},
     "output_type": "execute_result"
    }
   ],
   "source": [
    "df"
   ]
  },
  {
   "cell_type": "code",
   "execution_count": 125,
   "id": "c4a30a91-34f9-416f-a0f6-f89d19e03da8",
   "metadata": {},
   "outputs": [
    {
     "data": {
      "text/html": [
       "<div>\n",
       "<style scoped>\n",
       "    .dataframe tbody tr th:only-of-type {\n",
       "        vertical-align: middle;\n",
       "    }\n",
       "\n",
       "    .dataframe tbody tr th {\n",
       "        vertical-align: top;\n",
       "    }\n",
       "\n",
       "    .dataframe thead th {\n",
       "        text-align: right;\n",
       "    }\n",
       "</style>\n",
       "<table border=\"1\" class=\"dataframe\">\n",
       "  <thead>\n",
       "    <tr style=\"text-align: right;\">\n",
       "      <th></th>\n",
       "      <th>CBTRevenueId</th>\n",
       "      <th>Date</th>\n",
       "      <th>DataSourceId</th>\n",
       "      <th>ProductId</th>\n",
       "      <th>ProductKey</th>\n",
       "      <th>USOC</th>\n",
       "      <th>ClassOfService</th>\n",
       "      <th>RAC</th>\n",
       "      <th>AccountNumber</th>\n",
       "      <th>WorkingTelephoneNumber</th>\n",
       "      <th>RegionCode</th>\n",
       "      <th>CompanyCode</th>\n",
       "      <th>RevenueType</th>\n",
       "      <th>Brand</th>\n",
       "      <th>Market</th>\n",
       "      <th>FunctionCode</th>\n",
       "      <th>Revenue</th>\n",
       "      <th>DAWLoadDate</th>\n",
       "      <th>vchCircuitId</th>\n",
       "      <th>vchCircuitLocation</th>\n",
       "      <th>Division</th>\n",
       "      <th>SubDivision</th>\n",
       "      <th>JournalCode</th>\n",
       "    </tr>\n",
       "  </thead>\n",
       "  <tbody>\n",
       "    <tr>\n",
       "      <th>0</th>\n",
       "      <td>5263388</td>\n",
       "      <td>2024-08-01 00:00:00</td>\n",
       "      <td>24</td>\n",
       "      <td>247</td>\n",
       "      <td>ZXT  1FB-M00139</td>\n",
       "      <td>ZXT</td>\n",
       "      <td>1FB-M</td>\n",
       "      <td>00139</td>\n",
       "      <td>5139369200681</td>\n",
       "      <td>5139369200</td>\n",
       "      <td>278</td>\n",
       "      <td>ILEC</td>\n",
       "      <td>Recurring</td>\n",
       "      <td>CopperNonFioptics</td>\n",
       "      <td>Strategic</td>\n",
       "      <td>5RFH05</td>\n",
       "      <td>None</td>\n",
       "      <td>2024-09-10 00:00:00</td>\n",
       "      <td>None</td>\n",
       "      <td>None</td>\n",
       "      <td>None</td>\n",
       "      <td>None</td>\n",
       "      <td>None</td>\n",
       "    </tr>\n",
       "    <tr>\n",
       "      <th>1</th>\n",
       "      <td>5263389</td>\n",
       "      <td>2024-08-01 00:00:00</td>\n",
       "      <td>24</td>\n",
       "      <td>482</td>\n",
       "      <td>AHL  1FB-M04298</td>\n",
       "      <td>AHL</td>\n",
       "      <td>1FB-M</td>\n",
       "      <td>04298</td>\n",
       "      <td>5139369200681</td>\n",
       "      <td>5139369200</td>\n",
       "      <td>278</td>\n",
       "      <td>ILEC</td>\n",
       "      <td>Recurring</td>\n",
       "      <td>CopperNonFioptics</td>\n",
       "      <td>Strategic</td>\n",
       "      <td>5WAB</td>\n",
       "      <td>None</td>\n",
       "      <td>2024-09-10 00:00:00</td>\n",
       "      <td>None</td>\n",
       "      <td>None</td>\n",
       "      <td>None</td>\n",
       "      <td>None</td>\n",
       "      <td>None</td>\n",
       "    </tr>\n",
       "    <tr>\n",
       "      <th>2</th>\n",
       "      <td>5263390</td>\n",
       "      <td>2024-08-01 00:00:00</td>\n",
       "      <td>24</td>\n",
       "      <td>202</td>\n",
       "      <td>9ZR  1FB-M00309</td>\n",
       "      <td>9ZR</td>\n",
       "      <td>1FB-M</td>\n",
       "      <td>00309</td>\n",
       "      <td>5139369200681</td>\n",
       "      <td>5139369200</td>\n",
       "      <td>278</td>\n",
       "      <td>ILEC</td>\n",
       "      <td>Recurring</td>\n",
       "      <td>CopperNonFioptics</td>\n",
       "      <td>Strategic</td>\n",
       "      <td>5WA0</td>\n",
       "      <td>None</td>\n",
       "      <td>2024-09-10 00:00:00</td>\n",
       "      <td>None</td>\n",
       "      <td>None</td>\n",
       "      <td>None</td>\n",
       "      <td>None</td>\n",
       "      <td>None</td>\n",
       "    </tr>\n",
       "    <tr>\n",
       "      <th>3</th>\n",
       "      <td>5263391</td>\n",
       "      <td>2024-08-01 00:00:00</td>\n",
       "      <td>24</td>\n",
       "      <td>200</td>\n",
       "      <td>ARREG1FB-M04372</td>\n",
       "      <td>ARREG</td>\n",
       "      <td>1FB-M</td>\n",
       "      <td>04372</td>\n",
       "      <td>5139369200681</td>\n",
       "      <td>5139369200</td>\n",
       "      <td>278</td>\n",
       "      <td>ILEC</td>\n",
       "      <td>Recurring</td>\n",
       "      <td>CopperNonFioptics</td>\n",
       "      <td>Strategic</td>\n",
       "      <td>5WAE</td>\n",
       "      <td>None</td>\n",
       "      <td>2024-09-10 00:00:00</td>\n",
       "      <td>None</td>\n",
       "      <td>None</td>\n",
       "      <td>None</td>\n",
       "      <td>None</td>\n",
       "      <td>None</td>\n",
       "    </tr>\n",
       "    <tr>\n",
       "      <th>4</th>\n",
       "      <td>5263392</td>\n",
       "      <td>2024-08-01 00:00:00</td>\n",
       "      <td>24</td>\n",
       "      <td>396</td>\n",
       "      <td>C5PEX1FB-M03682</td>\n",
       "      <td>C5PEX</td>\n",
       "      <td>1FB-M</td>\n",
       "      <td>03682</td>\n",
       "      <td>5139369200681</td>\n",
       "      <td>5139369200</td>\n",
       "      <td>278</td>\n",
       "      <td>ILEC</td>\n",
       "      <td>Recurring</td>\n",
       "      <td>CopperNonFioptics</td>\n",
       "      <td>Strategic</td>\n",
       "      <td>5RF042</td>\n",
       "      <td>None</td>\n",
       "      <td>2024-09-10 00:00:00</td>\n",
       "      <td>None</td>\n",
       "      <td>None</td>\n",
       "      <td>None</td>\n",
       "      <td>None</td>\n",
       "      <td>None</td>\n",
       "    </tr>\n",
       "    <tr>\n",
       "      <th>...</th>\n",
       "      <td>...</td>\n",
       "      <td>...</td>\n",
       "      <td>...</td>\n",
       "      <td>...</td>\n",
       "      <td>...</td>\n",
       "      <td>...</td>\n",
       "      <td>...</td>\n",
       "      <td>...</td>\n",
       "      <td>...</td>\n",
       "      <td>...</td>\n",
       "      <td>...</td>\n",
       "      <td>...</td>\n",
       "      <td>...</td>\n",
       "      <td>...</td>\n",
       "      <td>...</td>\n",
       "      <td>...</td>\n",
       "      <td>...</td>\n",
       "      <td>...</td>\n",
       "      <td>...</td>\n",
       "      <td>...</td>\n",
       "      <td>...</td>\n",
       "      <td>...</td>\n",
       "      <td>...</td>\n",
       "    </tr>\n",
       "    <tr>\n",
       "      <th>1643706</th>\n",
       "      <td>416606642</td>\n",
       "      <td>2024-10-01 00:00:00</td>\n",
       "      <td>24</td>\n",
       "      <td>247</td>\n",
       "      <td>ZXT  LMB  00136</td>\n",
       "      <td>None</td>\n",
       "      <td>None</td>\n",
       "      <td>None</td>\n",
       "      <td>ZXT</td>\n",
       "      <td>LMB</td>\n",
       "      <td>00136</td>\n",
       "      <td>None</td>\n",
       "      <td>None</td>\n",
       "      <td>5138940169235</td>\n",
       "      <td>5138940169</td>\n",
       "      <td>135</td>\n",
       "      <td>None</td>\n",
       "      <td>Recurring</td>\n",
       "      <td>CopperNonFioptics</td>\n",
       "      <td>Strategic</td>\n",
       "      <td>5RFH02</td>\n",
       "      <td>None</td>\n",
       "      <td>.07</td>\n",
       "    </tr>\n",
       "    <tr>\n",
       "      <th>1643707</th>\n",
       "      <td>416606643</td>\n",
       "      <td>2024-10-01 00:00:00</td>\n",
       "      <td>23</td>\n",
       "      <td>168</td>\n",
       "      <td>6548VMZR  04281</td>\n",
       "      <td>None</td>\n",
       "      <td>None</td>\n",
       "      <td>None</td>\n",
       "      <td>6548V</td>\n",
       "      <td>MZR</td>\n",
       "      <td>04281</td>\n",
       "      <td>None</td>\n",
       "      <td>None</td>\n",
       "      <td>8591168361340</td>\n",
       "      <td>8591168361</td>\n",
       "      <td>460</td>\n",
       "      <td>None</td>\n",
       "      <td>Recurring</td>\n",
       "      <td>FiberFioptics</td>\n",
       "      <td>Consumer</td>\n",
       "      <td>FQ0101</td>\n",
       "      <td>None</td>\n",
       "      <td>-59.99</td>\n",
       "    </tr>\n",
       "    <tr>\n",
       "      <th>1643708</th>\n",
       "      <td>416606644</td>\n",
       "      <td>2024-10-01 00:00:00</td>\n",
       "      <td>24</td>\n",
       "      <td>18</td>\n",
       "      <td>6203VMZR  04281</td>\n",
       "      <td>None</td>\n",
       "      <td>None</td>\n",
       "      <td>None</td>\n",
       "      <td>6203V</td>\n",
       "      <td>MZR</td>\n",
       "      <td>04281</td>\n",
       "      <td>None</td>\n",
       "      <td>None</td>\n",
       "      <td>5131289476768</td>\n",
       "      <td>5131289476</td>\n",
       "      <td>234</td>\n",
       "      <td>None</td>\n",
       "      <td>Recurring</td>\n",
       "      <td>FiberFioptics</td>\n",
       "      <td>Consumer</td>\n",
       "      <td>FQ0101</td>\n",
       "      <td>None</td>\n",
       "      <td>12.64</td>\n",
       "    </tr>\n",
       "    <tr>\n",
       "      <th>1643709</th>\n",
       "      <td>416606645</td>\n",
       "      <td>2024-10-01 00:00:00</td>\n",
       "      <td>51</td>\n",
       "      <td>43</td>\n",
       "      <td>6604VMZR  04281</td>\n",
       "      <td>None</td>\n",
       "      <td>None</td>\n",
       "      <td>None</td>\n",
       "      <td>6604V</td>\n",
       "      <td>MZR</td>\n",
       "      <td>04281</td>\n",
       "      <td>None</td>\n",
       "      <td>None</td>\n",
       "      <td>8591185957821</td>\n",
       "      <td>8591185957</td>\n",
       "      <td>426</td>\n",
       "      <td>None</td>\n",
       "      <td>Recurring</td>\n",
       "      <td>FiberFioptics</td>\n",
       "      <td>Consumer</td>\n",
       "      <td>FQ0101</td>\n",
       "      <td>None</td>\n",
       "      <td>59.99</td>\n",
       "    </tr>\n",
       "    <tr>\n",
       "      <th>1643710</th>\n",
       "      <td>416606646</td>\n",
       "      <td>2024-10-01 00:00:00</td>\n",
       "      <td>23</td>\n",
       "      <td>202</td>\n",
       "      <td>1FR  00309</td>\n",
       "      <td>None</td>\n",
       "      <td>None</td>\n",
       "      <td>None</td>\n",
       "      <td></td>\n",
       "      <td>1FR</td>\n",
       "      <td>00309</td>\n",
       "      <td>None</td>\n",
       "      <td>None</td>\n",
       "      <td>8593448144725</td>\n",
       "      <td>8593448144</td>\n",
       "      <td>424</td>\n",
       "      <td>None</td>\n",
       "      <td>Recurring</td>\n",
       "      <td>FiberFioptics</td>\n",
       "      <td>Consumer</td>\n",
       "      <td>5WA1</td>\n",
       "      <td>None</td>\n",
       "      <td>.12</td>\n",
       "    </tr>\n",
       "  </tbody>\n",
       "</table>\n",
       "<p>1643711 rows × 23 columns</p>\n",
       "</div>"
      ],
      "text/plain": [
       "        CBTRevenueId                 Date DataSourceId ProductId  \\\n",
       "0            5263388  2024-08-01 00:00:00           24       247   \n",
       "1            5263389  2024-08-01 00:00:00           24       482   \n",
       "2            5263390  2024-08-01 00:00:00           24       202   \n",
       "3            5263391  2024-08-01 00:00:00           24       200   \n",
       "4            5263392  2024-08-01 00:00:00           24       396   \n",
       "...              ...                  ...          ...       ...   \n",
       "1643706    416606642  2024-10-01 00:00:00           24       247   \n",
       "1643707    416606643  2024-10-01 00:00:00           23       168   \n",
       "1643708    416606644  2024-10-01 00:00:00           24        18   \n",
       "1643709    416606645  2024-10-01 00:00:00           51        43   \n",
       "1643710    416606646  2024-10-01 00:00:00           23       202   \n",
       "\n",
       "              ProductKey   USOC ClassOfService    RAC  AccountNumber  \\\n",
       "0        ZXT  1FB-M00139  ZXT            1FB-M  00139  5139369200681   \n",
       "1        AHL  1FB-M04298  AHL            1FB-M  04298  5139369200681   \n",
       "2        9ZR  1FB-M00309  9ZR            1FB-M  00309  5139369200681   \n",
       "3        ARREG1FB-M04372  ARREG          1FB-M  04372  5139369200681   \n",
       "4        C5PEX1FB-M03682  C5PEX          1FB-M  03682  5139369200681   \n",
       "...                  ...    ...            ...    ...            ...   \n",
       "1643706  ZXT  LMB  00136   None           None   None          ZXT     \n",
       "1643707  6548VMZR  04281   None           None   None          6548V   \n",
       "1643708  6203VMZR  04281   None           None   None          6203V   \n",
       "1643709  6604VMZR  04281   None           None   None          6604V   \n",
       "1643710       1FR  00309   None           None   None                  \n",
       "\n",
       "        WorkingTelephoneNumber RegionCode CompanyCode RevenueType  \\\n",
       "0                   5139369200        278        ILEC   Recurring   \n",
       "1                   5139369200        278        ILEC   Recurring   \n",
       "2                   5139369200        278        ILEC   Recurring   \n",
       "3                   5139369200        278        ILEC   Recurring   \n",
       "4                   5139369200        278        ILEC   Recurring   \n",
       "...                        ...        ...         ...         ...   \n",
       "1643706                  LMB        00136        None        None   \n",
       "1643707                  MZR        04281        None        None   \n",
       "1643708                  MZR        04281        None        None   \n",
       "1643709                  MZR        04281        None        None   \n",
       "1643710                  1FR        00309        None        None   \n",
       "\n",
       "                     Brand      Market FunctionCode Revenue  \\\n",
       "0        CopperNonFioptics   Strategic       5RFH05    None   \n",
       "1        CopperNonFioptics   Strategic       5WAB      None   \n",
       "2        CopperNonFioptics   Strategic       5WA0      None   \n",
       "3        CopperNonFioptics   Strategic       5WAE      None   \n",
       "4        CopperNonFioptics   Strategic       5RF042    None   \n",
       "...                    ...         ...          ...     ...   \n",
       "1643706      5138940169235  5138940169          135    None   \n",
       "1643707      8591168361340  8591168361          460    None   \n",
       "1643708      5131289476768  5131289476          234    None   \n",
       "1643709      8591185957821  8591185957          426    None   \n",
       "1643710      8593448144725  8593448144          424    None   \n",
       "\n",
       "                 DAWLoadDate       vchCircuitId vchCircuitLocation Division  \\\n",
       "0        2024-09-10 00:00:00               None               None     None   \n",
       "1        2024-09-10 00:00:00               None               None     None   \n",
       "2        2024-09-10 00:00:00               None               None     None   \n",
       "3        2024-09-10 00:00:00               None               None     None   \n",
       "4        2024-09-10 00:00:00               None               None     None   \n",
       "...                      ...                ...                ...      ...   \n",
       "1643706            Recurring  CopperNonFioptics          Strategic   5RFH02   \n",
       "1643707            Recurring      FiberFioptics           Consumer   FQ0101   \n",
       "1643708            Recurring      FiberFioptics           Consumer   FQ0101   \n",
       "1643709            Recurring      FiberFioptics           Consumer   FQ0101   \n",
       "1643710            Recurring      FiberFioptics           Consumer   5WA1     \n",
       "\n",
       "        SubDivision JournalCode  \n",
       "0              None        None  \n",
       "1              None        None  \n",
       "2              None        None  \n",
       "3              None        None  \n",
       "4              None        None  \n",
       "...             ...         ...  \n",
       "1643706        None         .07  \n",
       "1643707        None      -59.99  \n",
       "1643708        None       12.64  \n",
       "1643709        None       59.99  \n",
       "1643710        None         .12  \n",
       "\n",
       "[1643711 rows x 23 columns]"
      ]
     },
     "execution_count": 125,
     "metadata": {},
     "output_type": "execute_result"
    }
   ],
   "source": [
    " df_query_result\n"
   ]
  },
  {
   "cell_type": "code",
   "execution_count": 136,
   "id": "f611395a-ef91-4b0b-94a7-8d22e7eb49ac",
   "metadata": {},
   "outputs": [
    {
     "name": "stdout",
     "output_type": "stream",
     "text": [
      "Collecting streamlitNote: you may need to restart the kernel to use updated packages.\n",
      "\n",
      "  Downloading streamlit-1.41.1-py2.py3-none-any.whl.metadata (8.5 kB)\n",
      "Collecting altair<6,>=4.0 (from streamlit)\n",
      "  Downloading altair-5.5.0-py3-none-any.whl.metadata (11 kB)\n",
      "Collecting blinker<2,>=1.0.0 (from streamlit)\n",
      "  Downloading blinker-1.9.0-py3-none-any.whl.metadata (1.6 kB)\n",
      "Collecting cachetools<6,>=4.0 (from streamlit)\n",
      "  Downloading cachetools-5.5.0-py3-none-any.whl.metadata (5.3 kB)\n",
      "Collecting click<9,>=7.0 (from streamlit)\n",
      "  Downloading click-8.1.8-py3-none-any.whl.metadata (2.3 kB)\n",
      "Requirement already satisfied: numpy<3,>=1.23 in c:\\users\\pbag604\\appdata\\local\\anaconda3\\envs\\myenv\\lib\\site-packages (from streamlit) (1.26.4)\n",
      "Requirement already satisfied: packaging<25,>=20 in c:\\users\\pbag604\\appdata\\local\\anaconda3\\envs\\myenv\\lib\\site-packages (from streamlit) (24.2)\n",
      "Requirement already satisfied: pandas<3,>=1.4.0 in c:\\users\\pbag604\\appdata\\local\\anaconda3\\envs\\myenv\\lib\\site-packages (from streamlit) (2.2.3)\n",
      "Collecting pillow<12,>=7.1.0 (from streamlit)\n",
      "  Downloading pillow-11.0.0-cp312-cp312-win_amd64.whl.metadata (9.3 kB)\n",
      "Collecting protobuf<6,>=3.20 (from streamlit)\n",
      "  Downloading protobuf-5.29.2-cp310-abi3-win_amd64.whl.metadata (592 bytes)\n",
      "Collecting pyarrow>=7.0 (from streamlit)\n",
      "  Downloading pyarrow-18.1.0-cp312-cp312-win_amd64.whl.metadata (3.4 kB)\n",
      "Requirement already satisfied: requests<3,>=2.27 in c:\\users\\pbag604\\appdata\\local\\anaconda3\\envs\\myenv\\lib\\site-packages (from streamlit) (2.32.3)\n",
      "Collecting rich<14,>=10.14.0 (from streamlit)\n",
      "  Downloading rich-13.9.4-py3-none-any.whl.metadata (18 kB)\n",
      "Requirement already satisfied: tenacity<10,>=8.1.0 in c:\\users\\pbag604\\appdata\\local\\anaconda3\\envs\\myenv\\lib\\site-packages (from streamlit) (9.0.0)\n",
      "Collecting toml<2,>=0.10.1 (from streamlit)\n",
      "  Downloading toml-0.10.2-py2.py3-none-any.whl.metadata (7.1 kB)\n",
      "Requirement already satisfied: typing-extensions<5,>=4.3.0 in c:\\users\\pbag604\\appdata\\local\\anaconda3\\envs\\myenv\\lib\\site-packages (from streamlit) (4.12.2)\n",
      "Collecting watchdog<7,>=2.1.5 (from streamlit)\n",
      "  Downloading watchdog-6.0.0-py3-none-win_amd64.whl.metadata (44 kB)\n",
      "Collecting gitpython!=3.1.19,<4,>=3.0.7 (from streamlit)\n",
      "  Downloading GitPython-3.1.43-py3-none-any.whl.metadata (13 kB)\n",
      "Collecting pydeck<1,>=0.8.0b4 (from streamlit)\n",
      "  Downloading pydeck-0.9.1-py2.py3-none-any.whl.metadata (4.1 kB)\n",
      "Requirement already satisfied: tornado<7,>=6.0.3 in c:\\users\\pbag604\\appdata\\local\\anaconda3\\envs\\myenv\\lib\\site-packages (from streamlit) (6.4.1)\n",
      "Requirement already satisfied: jinja2 in c:\\users\\pbag604\\appdata\\local\\anaconda3\\envs\\myenv\\lib\\site-packages (from altair<6,>=4.0->streamlit) (3.1.4)\n",
      "Requirement already satisfied: jsonschema>=3.0 in c:\\users\\pbag604\\appdata\\local\\anaconda3\\envs\\myenv\\lib\\site-packages (from altair<6,>=4.0->streamlit) (4.23.0)\n",
      "Collecting narwhals>=1.14.2 (from altair<6,>=4.0->streamlit)\n",
      "  Downloading narwhals-1.19.1-py3-none-any.whl.metadata (11 kB)\n",
      "Requirement already satisfied: colorama in c:\\users\\pbag604\\appdata\\local\\anaconda3\\envs\\myenv\\lib\\site-packages (from click<9,>=7.0->streamlit) (0.4.6)\n",
      "Collecting gitdb<5,>=4.0.1 (from gitpython!=3.1.19,<4,>=3.0.7->streamlit)\n",
      "  Downloading gitdb-4.0.11-py3-none-any.whl.metadata (1.2 kB)\n",
      "Requirement already satisfied: python-dateutil>=2.8.2 in c:\\users\\pbag604\\appdata\\local\\anaconda3\\envs\\myenv\\lib\\site-packages (from pandas<3,>=1.4.0->streamlit) (2.9.0.post0)\n",
      "Requirement already satisfied: pytz>=2020.1 in c:\\users\\pbag604\\appdata\\local\\anaconda3\\envs\\myenv\\lib\\site-packages (from pandas<3,>=1.4.0->streamlit) (2024.2)\n",
      "Requirement already satisfied: tzdata>=2022.7 in c:\\users\\pbag604\\appdata\\local\\anaconda3\\envs\\myenv\\lib\\site-packages (from pandas<3,>=1.4.0->streamlit) (2024.2)\n",
      "Requirement already satisfied: charset-normalizer<4,>=2 in c:\\users\\pbag604\\appdata\\local\\anaconda3\\envs\\myenv\\lib\\site-packages (from requests<3,>=2.27->streamlit) (3.4.0)\n",
      "Requirement already satisfied: idna<4,>=2.5 in c:\\users\\pbag604\\appdata\\local\\anaconda3\\envs\\myenv\\lib\\site-packages (from requests<3,>=2.27->streamlit) (3.10)\n",
      "Requirement already satisfied: urllib3<3,>=1.21.1 in c:\\users\\pbag604\\appdata\\local\\anaconda3\\envs\\myenv\\lib\\site-packages (from requests<3,>=2.27->streamlit) (2.2.3)\n",
      "Requirement already satisfied: certifi>=2017.4.17 in c:\\users\\pbag604\\appdata\\local\\anaconda3\\envs\\myenv\\lib\\site-packages (from requests<3,>=2.27->streamlit) (2024.8.30)\n",
      "Collecting markdown-it-py>=2.2.0 (from rich<14,>=10.14.0->streamlit)\n",
      "  Downloading markdown_it_py-3.0.0-py3-none-any.whl.metadata (6.9 kB)\n",
      "Requirement already satisfied: pygments<3.0.0,>=2.13.0 in c:\\users\\pbag604\\appdata\\local\\anaconda3\\envs\\myenv\\lib\\site-packages (from rich<14,>=10.14.0->streamlit) (2.18.0)\n",
      "Collecting smmap<6,>=3.0.1 (from gitdb<5,>=4.0.1->gitpython!=3.1.19,<4,>=3.0.7->streamlit)\n",
      "  Downloading smmap-5.0.1-py3-none-any.whl.metadata (4.3 kB)\n",
      "Requirement already satisfied: MarkupSafe>=2.0 in c:\\users\\pbag604\\appdata\\local\\anaconda3\\envs\\myenv\\lib\\site-packages (from jinja2->altair<6,>=4.0->streamlit) (3.0.2)\n",
      "Requirement already satisfied: attrs>=22.2.0 in c:\\users\\pbag604\\appdata\\local\\anaconda3\\envs\\myenv\\lib\\site-packages (from jsonschema>=3.0->altair<6,>=4.0->streamlit) (24.2.0)\n",
      "Requirement already satisfied: jsonschema-specifications>=2023.03.6 in c:\\users\\pbag604\\appdata\\local\\anaconda3\\envs\\myenv\\lib\\site-packages (from jsonschema>=3.0->altair<6,>=4.0->streamlit) (2024.10.1)\n",
      "Requirement already satisfied: referencing>=0.28.4 in c:\\users\\pbag604\\appdata\\local\\anaconda3\\envs\\myenv\\lib\\site-packages (from jsonschema>=3.0->altair<6,>=4.0->streamlit) (0.35.1)\n",
      "Requirement already satisfied: rpds-py>=0.7.1 in c:\\users\\pbag604\\appdata\\local\\anaconda3\\envs\\myenv\\lib\\site-packages (from jsonschema>=3.0->altair<6,>=4.0->streamlit) (0.10.6)\n",
      "Collecting mdurl~=0.1 (from markdown-it-py>=2.2.0->rich<14,>=10.14.0->streamlit)\n",
      "  Downloading mdurl-0.1.2-py3-none-any.whl.metadata (1.6 kB)\n",
      "Requirement already satisfied: six>=1.5 in c:\\users\\pbag604\\appdata\\local\\anaconda3\\envs\\myenv\\lib\\site-packages (from python-dateutil>=2.8.2->pandas<3,>=1.4.0->streamlit) (1.16.0)\n",
      "Downloading streamlit-1.41.1-py2.py3-none-any.whl (9.1 MB)\n",
      "   ---------------------------------------- 0.0/9.1 MB ? eta -:--:--\n",
      "   ---------------------------------------  8.9/9.1 MB 137.3 MB/s eta 0:00:01\n",
      "   ---------------------------------------  8.9/9.1 MB 137.3 MB/s eta 0:00:01\n",
      "   ---------------------------------------- 9.1/9.1 MB 18.8 MB/s eta 0:00:00\n",
      "Downloading altair-5.5.0-py3-none-any.whl (731 kB)\n",
      "   ---------------------------------------- 0.0/731.2 kB ? eta -:--:--\n",
      "   ---------------------------------------- 731.2/731.2 kB 7.6 MB/s eta 0:00:00\n",
      "Downloading blinker-1.9.0-py3-none-any.whl (8.5 kB)\n",
      "Downloading cachetools-5.5.0-py3-none-any.whl (9.5 kB)\n",
      "Downloading click-8.1.8-py3-none-any.whl (98 kB)\n",
      "Downloading GitPython-3.1.43-py3-none-any.whl (207 kB)\n",
      "Downloading pillow-11.0.0-cp312-cp312-win_amd64.whl (2.6 MB)\n",
      "   ---------------------------------------- 0.0/2.6 MB ? eta -:--:--\n",
      "   ---------------------------------------- 2.6/2.6 MB 16.4 MB/s eta 0:00:00\n",
      "Downloading protobuf-5.29.2-cp310-abi3-win_amd64.whl (434 kB)\n",
      "Downloading pyarrow-18.1.0-cp312-cp312-win_amd64.whl (25.1 MB)\n",
      "   ---------------------------------------- 0.0/25.1 MB ? eta -:--:--\n",
      "   ---------------------------------------  24.9/25.1 MB 157.0 MB/s eta 0:00:01\n",
      "   ---------------------------------------  24.9/25.1 MB 157.0 MB/s eta 0:00:01\n",
      "   ---------------------------------------  24.9/25.1 MB 157.0 MB/s eta 0:00:01\n",
      "   ---------------------------------------  24.9/25.1 MB 157.0 MB/s eta 0:00:01\n",
      "   ---------------------------------------  24.9/25.1 MB 157.0 MB/s eta 0:00:01\n",
      "   ---------------------------------------- 25.1/25.1 MB 19.9 MB/s eta 0:00:00\n",
      "Downloading pydeck-0.9.1-py2.py3-none-any.whl (6.9 MB)\n",
      "   ---------------------------------------- 0.0/6.9 MB ? eta -:--:--\n",
      "   ---------------------------------------  6.8/6.9 MB 211.4 MB/s eta 0:00:01\n",
      "   ---------------------------------------- 6.9/6.9 MB 17.0 MB/s eta 0:00:00\n",
      "Downloading rich-13.9.4-py3-none-any.whl (242 kB)\n",
      "Downloading toml-0.10.2-py2.py3-none-any.whl (16 kB)\n",
      "Downloading watchdog-6.0.0-py3-none-win_amd64.whl (79 kB)\n",
      "Downloading gitdb-4.0.11-py3-none-any.whl (62 kB)\n",
      "Downloading markdown_it_py-3.0.0-py3-none-any.whl (87 kB)\n",
      "Downloading narwhals-1.19.1-py3-none-any.whl (260 kB)\n",
      "Downloading mdurl-0.1.2-py3-none-any.whl (10.0 kB)\n",
      "Downloading smmap-5.0.1-py3-none-any.whl (24 kB)\n",
      "Installing collected packages: watchdog, toml, smmap, pyarrow, protobuf, pillow, narwhals, mdurl, click, cachetools, blinker, pydeck, markdown-it-py, gitdb, rich, gitpython, altair, streamlit\n",
      "Successfully installed altair-5.5.0 blinker-1.9.0 cachetools-5.5.0 click-8.1.8 gitdb-4.0.11 gitpython-3.1.43 markdown-it-py-3.0.0 mdurl-0.1.2 narwhals-1.19.1 pillow-11.0.0 protobuf-5.29.2 pyarrow-18.1.0 pydeck-0.9.1 rich-13.9.4 smmap-5.0.1 streamlit-1.41.1 toml-0.10.2 watchdog-6.0.0\n"
     ]
    }
   ],
   "source": [
    "pip install streamlit\n"
   ]
  },
  {
   "cell_type": "code",
   "execution_count": 141,
   "id": "8ce4da36-9d9f-4e98-93c1-0d7df127c411",
   "metadata": {},
   "outputs": [
    {
     "ename": "ModuleNotFoundError",
     "evalue": "No module named 'agents'",
     "output_type": "error",
     "traceback": [
      "\u001b[1;31m---------------------------------------------------------------------------\u001b[0m",
      "\u001b[1;31mModuleNotFoundError\u001b[0m                       Traceback (most recent call last)",
      "Cell \u001b[1;32mIn[141], line 2\u001b[0m\n\u001b[0;32m      1\u001b[0m \u001b[38;5;28;01mimport\u001b[39;00m \u001b[38;5;21;01mstreamlit\u001b[39;00m \u001b[38;5;28;01mas\u001b[39;00m \u001b[38;5;21;01mst\u001b[39;00m\n\u001b[1;32m----> 2\u001b[0m \u001b[38;5;28;01mfrom\u001b[39;00m \u001b[38;5;21;01magents\u001b[39;00m \u001b[38;5;28;01mimport\u001b[39;00m Agent1, Agent2  \u001b[38;5;66;03m# Import your agents\u001b[39;00m\n",
      "\u001b[1;31mModuleNotFoundError\u001b[0m: No module named 'agents'"
     ]
    }
   ],
   "source": [
    "import streamlit as st\n",
    "from agents import Agent1, Agent2  # Import your agents\n"
   ]
  },
  {
   "cell_type": "code",
   "execution_count": 140,
   "id": "eacc4e4d-00e3-4d60-a8a3-3a2941f266da",
   "metadata": {},
   "outputs": [
    {
     "ename": "SyntaxError",
     "evalue": "invalid syntax (3737097518.py, line 1)",
     "output_type": "error",
     "traceback": [
      "\u001b[1;36m  Cell \u001b[1;32mIn[140], line 1\u001b[1;36m\u001b[0m\n\u001b[1;33m    streamlit run app.py\u001b[0m\n\u001b[1;37m              ^\u001b[0m\n\u001b[1;31mSyntaxError\u001b[0m\u001b[1;31m:\u001b[0m invalid syntax\n"
     ]
    }
   ],
   "source": [
    "streamlit run app.py"
   ]
  },
  {
   "cell_type": "code",
   "execution_count": 11,
   "id": "e9bdfad9-55d6-40e4-aa7c-5ad87dde80e4",
   "metadata": {},
   "outputs": [
    {
     "ename": "SyntaxError",
     "evalue": "invalid syntax (1903370297.py, line 1)",
     "output_type": "error",
     "traceback": [
      "\u001b[1;36m  Cell \u001b[1;32mIn[11], line 1\u001b[1;36m\u001b[0m\n\u001b[1;33m    sqlite3 rev_28dec.db\u001b[0m\n\u001b[1;37m            ^\u001b[0m\n\u001b[1;31mSyntaxError\u001b[0m\u001b[1;31m:\u001b[0m invalid syntax\n"
     ]
    }
   ],
   "source": [
    "sqlite3 rev_28dec.db\n"
   ]
  },
  {
   "cell_type": "code",
   "execution_count": 14,
   "id": "2833d17c-0e1f-417f-bada-660936c31d43",
   "metadata": {},
   "outputs": [
    {
     "name": "stdout",
     "output_type": "stream",
     "text": [
      "An error occurred: near \"USE\": syntax error\n"
     ]
    }
   ],
   "source": [
    "import sqlite3\n",
    "\n",
    "# Connect to SQLite (creates the database file if it doesn't exist)\n",
    "conn = sqlite3.connect('rev_28dec.db')\n",
    "\n",
    "# Read the .sql file\n",
    "with open('rev.sql', 'r') as file:\n",
    "    sql_script = file.read()\n",
    "\n",
    "# Execute the SQL script\n",
    "try:\n",
    "    cursor = conn.cursor()\n",
    "    cursor.executescript(sql_script)\n",
    "    conn.commit()\n",
    "    print(\"SQL script executed successfully!\")\n",
    "except Exception as e:\n",
    "    print(f\"An error occurred: {e}\")\n",
    "finally:\n",
    "    conn.close()\n",
    "\n"
   ]
  },
  {
   "cell_type": "code",
   "execution_count": null,
   "id": "234ed4ce-ee04-4ed7-8f26-c282ef974f95",
   "metadata": {},
   "outputs": [],
   "source": []
  }
 ],
 "metadata": {
  "kernelspec": {
   "display_name": "Python (myenv)",
   "language": "python",
   "name": "myenv"
  },
  "language_info": {
   "codemirror_mode": {
    "name": "ipython",
    "version": 3
   },
   "file_extension": ".py",
   "mimetype": "text/x-python",
   "name": "python",
   "nbconvert_exporter": "python",
   "pygments_lexer": "ipython3",
   "version": "3.12.7"
  }
 },
 "nbformat": 4,
 "nbformat_minor": 5
}
